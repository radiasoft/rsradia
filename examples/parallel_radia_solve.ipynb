{
 "cells": [
  {
   "cell_type": "markdown",
   "metadata": {},
   "source": [
    "# Demonstration of the use of the rsradia.jupyter function mpi_solve\n",
    "mpi_solve is a wrapper that is designed to function just like one of Radia's built in relaxation commands (together with the RlxPre command), but with the capability to run in parallel. To do this from a notebook mpi_solve dumps the Radia object it is given to disk, calls mpiexec in a subprocess on the appropriate Radia relaxation command given the arguments passed in and then dumps the result to be loaded back into the notebook.\n",
    "\n",
    "A basic example is shown below using the HybridUndCenPart function defined in radia_test_function.py"
   ]
  },
  {
   "cell_type": "code",
   "execution_count": 1,
   "metadata": {},
   "outputs": [],
   "source": [
    "import numpy as np\n",
    "import radia as rad\n",
    "from radia_test_function import HybridUndCenPart\n",
    "from math import *"
   ]
  },
  {
   "cell_type": "markdown",
   "metadata": {},
   "source": [
    "# Define parameters for undulator and create Radia object"
   ]
  },
  {
   "cell_type": "code",
   "execution_count": 2,
   "metadata": {},
   "outputs": [],
   "source": [
    "#General Undulator Parameters\n",
    "per = 14.\n",
    "nPer = 15 #10 \n",
    "gap = 4.\n",
    "gapOffset = 0.\n",
    "air = 0.05\n",
    "\n",
    "poleThickPer20 = 3.\n",
    "poleHeight = 19.5\n",
    "poleWidth = 30. #40.\n",
    "lp = [poleWidth, poleThickPer20*per/20., poleHeight]\n",
    "chPole = 0.1 #If cham_pole > 0, it adds pole tip\n",
    "\n",
    "npx = 6; npy = 6 #5\n",
    "np = [npx,npy,[12,0.18]] #Pole Subdivision Params\n",
    "#np = [[6,1.],[5,1.],[12,0.18]]\n",
    "#np = [npx,npy,12]\n",
    "npTip = [npx,npy,1] #Pole Tip Subdivision Params\n",
    "cp = [1.,0.,1.] #Pole Color\n",
    "\n",
    "magWidth = 45. #58.\n",
    "lmy = per/2-lp[1]-2*air\n",
    "lm = [magWidth,lmy,27]\n",
    "\n",
    "nm = [3,2,[6,1./3.]] #Magnet Subdivision Params\n",
    "#nm = [[3,1.],[2,1.],[6,1./3.]]\n",
    "#nm = [3,2,6]\n",
    "cm = [0.,1.,1.] #Magnet Color\n",
    "\n",
    "chMagXZ = 3. #Magnet Chamfer in the XZ plane\n",
    "chMagYZ = 0.05 #Magnet Chamfer in the YZ plane\n",
    "chMagYZrat = sqrt(3.) #Magnet Chamfer Ratio: Longitudinal/Vertical\n",
    "\n",
    "#Pole Material \n",
    "#B [G] vs H [G] data from NEOMAX\n",
    "BvsH_G = [[0.,0],[0.5,5000],[1,10000],[1.5,13000],[2,15000],[3,16500],[4,17400],[6,18500],[8,19250],[10,19800],\n",
    "          [12,20250],[14,20600],[16,20900],[18,21120],[20,21250],[25,21450],[30,21590],[40,21850],[50,22000],\n",
    "          [70,22170],[100,22300],[200,22500],[300,22650],[500,23000],[1000,23900],[2000,24900]]\n",
    "MvsH_T = [[BvsH_G[i][0]*1.e-04, (BvsH_G[i][1]-BvsH_G[i][0])*1.e-04] for i in range(len(BvsH_G))]\n",
    "mp = rad.MatSatIsoTab(MvsH_T)\n",
    "\n",
    "#Magnet Material\n",
    "magBr = 1.67 #Remanent Magnetization\n",
    "mm = rad.MatLin({0.05, 0.15}, magBr)\n",
    "\n",
    "grp = HybridUndCenPart(_gap=gap, _gap_ofst=gapOffset, _nper=nPer, _air=air,\n",
    "                       _lp=lp, _ch_p=chPole, _np=np, _np_tip=npTip, _mp=mp, _cp=cp,\n",
    "                       _lm=lm, _ch_m_xz=chMagXZ, _ch_m_yz=chMagYZ, _ch_m_yz_r=chMagYZrat, _nm=nm, _mm=mm, _cm=cm)"
   ]
  },
  {
   "cell_type": "code",
   "execution_count": 3,
   "metadata": {},
   "outputs": [],
   "source": [
    "relaxation_args = [\n",
    "\n",
    "    0.001,\n",
    "\n",
    "    1000,\n",
    "\n",
    "    4,\n",
    "\n",
    "    \"ZeroM->False\"\n",
    "\n",
    "]\n",
    "\n"
   ]
  },
  {
   "cell_type": "markdown",
   "metadata": {},
   "source": [
    "### Run wrapper Test"
   ]
  },
  {
   "cell_type": "code",
   "execution_count": 4,
   "metadata": {},
   "outputs": [],
   "source": [
    "from rsradia.jupyter import mpi_solve\n",
    "import time"
   ]
  },
  {
   "cell_type": "code",
   "execution_count": 5,
   "metadata": {},
   "outputs": [
    {
     "name": "stdout",
     "output_type": "stream",
     "text": [
      "Solve finished\n",
      "I am rank: 0\n",
      "Starting relaxation\n",
      "Finished relaxation\n",
      "I am rank: 2\n",
      "I am rank: 1\n",
      "I am rank: 3\n",
      "\n",
      "Time: 57.10527539253235\n"
     ]
    }
   ],
   "source": [
    "start = time.time()\n",
    "p_res = mpi_solve(grp, relaxation_args)\n",
    "print(\"Time:\", time.time() - start)"
   ]
  },
  {
   "cell_type": "code",
   "execution_count": 6,
   "metadata": {},
   "outputs": [
    {
     "name": "stdout",
     "output_type": "stream",
     "text": [
      "0.18608228105372202\n"
     ]
    }
   ],
   "source": [
    "# Expected: ~0.18608 T\n",
    "print(rad.Fld(p_res, 'bz', [0,0,0]))"
   ]
  },
  {
   "cell_type": "markdown",
   "metadata": {},
   "source": [
    "# Compare to serial evaluation in notebook"
   ]
  },
  {
   "cell_type": "code",
   "execution_count": 8,
   "metadata": {},
   "outputs": [],
   "source": [
    "mp2 = rad.MatSatIsoTab(MvsH_T)\n",
    "mm2 = rad.MatLin({0.05, 0.15}, magBr)\n",
    "grp2 = HybridUndCenPart(_gap=gap, _gap_ofst=gapOffset, _nper=nPer, _air=air,\n",
    "                        _lp=lp, _ch_p=chPole, _np=np, _np_tip=npTip, _mp=mp2, _cp=cp,\n",
    "                        _lm=lm, _ch_m_xz=chMagXZ, _ch_m_yz=chMagYZ, _ch_m_yz_r=chMagYZrat, _nm=nm, _mm=mm2, _cm=cm)"
   ]
  },
  {
   "cell_type": "code",
   "execution_count": null,
   "metadata": {},
   "outputs": [],
   "source": [
    "start = time.time()\n",
    "IM2 = rad.RlxPre(grp2)\n",
    "rad.RlxAuto(IM2, relaxation_args[0], relaxation_args[1], relaxation_args[2], relaxation_args[3])\n",
    "print(\"Time:\", time.time() - start)\n",
    "print(rad.Fld(grp2, 'bz', [0,0,0]))"
   ]
  },
  {
   "cell_type": "markdown",
   "metadata": {},
   "source": [
    "# Visualize Magnet (Requires jupyter_rs_radia)"
   ]
  },
  {
   "cell_type": "code",
   "execution_count": 7,
   "metadata": {},
   "outputs": [],
   "source": [
    "import ipywidgets\n",
    "from jupyter_rs_radia import radia_viewer"
   ]
  },
  {
   "cell_type": "code",
   "execution_count": 8,
   "metadata": {},
   "outputs": [
    {
     "data": {
      "application/vnd.jupyter.widget-view+json": {
       "model_id": "fb18d124362d49d1a4cdf3e4f8a55084",
       "version_major": 2,
       "version_minor": 0
      },
      "text/plain": [
       "RadiaViewer(children=(Viewer(children=(VTK(layout=Layout(margin='auto', min_width='25%', width='50%'), model_d…"
      ]
     },
     "metadata": {},
     "output_type": "display_data"
    }
   ],
   "source": [
    "rv = radia_viewer.RadiaViewer()\n",
    "rv.add_geometry('Simple Dipole Steerer 1', grp)\n",
    "rv.display()"
   ]
  },
  {
   "cell_type": "code",
   "execution_count": null,
   "metadata": {},
   "outputs": [],
   "source": []
  }
 ],
 "metadata": {
  "kernelspec": {
   "display_name": "Python 3",
   "language": "python",
   "name": "py3"
  },
  "language_info": {
   "codemirror_mode": {
    "name": "ipython",
    "version": 3
   },
   "file_extension": ".py",
   "mimetype": "text/x-python",
   "name": "python",
   "nbconvert_exporter": "python",
   "pygments_lexer": "ipython3",
   "version": "3.7.2"
  }
 },
 "nbformat": 4,
 "nbformat_minor": 4
}
