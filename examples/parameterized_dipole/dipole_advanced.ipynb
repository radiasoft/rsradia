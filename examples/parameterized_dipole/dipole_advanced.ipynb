{
 "cells": [
  {
   "cell_type": "code",
   "execution_count": 10,
   "id": "ac87921c",
   "metadata": {},
   "outputs": [],
   "source": [
    "%matplotlib widget"
   ]
  },
  {
   "cell_type": "code",
   "execution_count": 2,
   "id": "5e2608ee",
   "metadata": {},
   "outputs": [],
   "source": [
    "import matplotlib.pyplot as plt\n",
    "import numpy as np\n",
    "\n",
    "from rsradia.magnets import dipole as dipole_module\n",
    "# import uti_plot\n",
    "import ipywidgets\n",
    "from jupyter_rs_radia import radia_viewer\n",
    "import radia as rad"
   ]
  },
  {
   "cell_type": "markdown",
   "id": "8e7af7e4",
   "metadata": {},
   "source": [
    "# Baseline Configuration\n"
   ]
  },
  {
   "cell_type": "code",
   "execution_count": 3,
   "id": "f43ad166",
   "metadata": {},
   "outputs": [],
   "source": [
    "baseline = pole_dimensions = {\n",
    "    'pole_width': 5.0,\n",
    "    'pole_separation': 1.5,\n",
    "    'pole_height': 1.5,\n",
    "    'top_height': 1.5,\n",
    "    'gap_height': 0.75,\n",
    "    'leg_width': 1.5\n",
    "}"
   ]
  },
  {
   "cell_type": "code",
   "execution_count": 4,
   "id": "9b0a1e8c",
   "metadata": {},
   "outputs": [],
   "source": [
    "baseline_points = np.array(dipole_module._create_point_table(**baseline))"
   ]
  },
  {
   "cell_type": "code",
   "execution_count": 5,
   "id": "65ce57a1",
   "metadata": {},
   "outputs": [
    {
     "data": {
      "application/vnd.jupyter.widget-view+json": {
       "model_id": "1a3bb9a4203e482f99f364c1342e1a42",
       "version_major": 2,
       "version_minor": 0
      },
      "text/plain": [
       "Canvas(toolbar=Toolbar(toolitems=[('Home', 'Reset original view', 'home', 'home'), ('Back', 'Back to previous …"
      ]
     },
     "metadata": {},
     "output_type": "display_data"
    },
    {
     "data": {
      "text/plain": [
       "[<matplotlib.patches.Polygon at 0x7fc9db13e198>]"
      ]
     },
     "execution_count": 5,
     "metadata": {},
     "output_type": "execute_result"
    }
   ],
   "source": [
    "plt.figure()\n",
    "plt.plot(baseline_points[:, 0], baseline_points[:, 1], c='C1')\n",
    "plt.fill(baseline_points[:, 0], baseline_points[:, 1])"
   ]
  },
  {
   "cell_type": "markdown",
   "id": "338078c3",
   "metadata": {},
   "source": [
    "# Chamfer and Bevel"
   ]
  },
  {
   "cell_type": "markdown",
   "id": "9c26c781",
   "metadata": {},
   "source": [
    "### Just a bevel"
   ]
  },
  {
   "cell_type": "code",
   "execution_count": 20,
   "id": "e9e631dc",
   "metadata": {},
   "outputs": [],
   "source": [
    "bevel = {**baseline,\n",
    "           'bevel_base': 2.} "
   ]
  },
  {
   "cell_type": "code",
   "execution_count": 21,
   "id": "4de6a4f6",
   "metadata": {},
   "outputs": [],
   "source": [
    "bevel_points = np.array(dipole_module._create_point_table(**bevel))"
   ]
  },
  {
   "cell_type": "code",
   "execution_count": 22,
   "id": "3a2601e8",
   "metadata": {},
   "outputs": [
    {
     "data": {
      "application/vnd.jupyter.widget-view+json": {
       "model_id": "9f91171fdb4549339d32784160517d1e",
       "version_major": 2,
       "version_minor": 0
      },
      "text/plain": [
       "Canvas(toolbar=Toolbar(toolitems=[('Home', 'Reset original view', 'home', 'home'), ('Back', 'Back to previous …"
      ]
     },
     "metadata": {},
     "output_type": "display_data"
    },
    {
     "data": {
      "text/plain": [
       "[<matplotlib.patches.Polygon at 0x7fc062351f98>]"
      ]
     },
     "execution_count": 22,
     "metadata": {},
     "output_type": "execute_result"
    }
   ],
   "source": [
    "plt.figure()\n",
    "plt.plot(bevel_points[:, 0], bevel_points[:, 1], c='C1')\n",
    "plt.fill(bevel_points[:, 0], bevel_points[:, 1])"
   ]
  },
  {
   "cell_type": "markdown",
   "id": "c9ea1453",
   "metadata": {},
   "source": [
    "### Chamfer"
   ]
  },
  {
   "cell_type": "code",
   "execution_count": 9,
   "id": "393d3c8d",
   "metadata": {},
   "outputs": [],
   "source": [
    "chamfer = {**baseline,\n",
    "           'chamfer_base': 0.5,\n",
    "           'chamfer_angle': 30.} \n",
    "chamfer_and_bevel = {**bevel,\n",
    "                     'chamfer_base': 0.5,\n",
    "                     'chamfer_angle': 30.} "
   ]
  },
  {
   "cell_type": "code",
   "execution_count": 10,
   "id": "46e9e436",
   "metadata": {},
   "outputs": [],
   "source": [
    "chamfer_points = np.array(dipole_module._create_point_table(**chamfer))\n",
    "chamfer_and_bevel_points = np.array(dipole_module._create_point_table(**chamfer_and_bevel))"
   ]
  },
  {
   "cell_type": "code",
   "execution_count": 11,
   "id": "fbbf845f",
   "metadata": {},
   "outputs": [
    {
     "data": {
      "application/vnd.jupyter.widget-view+json": {
       "model_id": "0a91259647014df39571dc59e3a74181",
       "version_major": 2,
       "version_minor": 0
      },
      "text/plain": [
       "Canvas(toolbar=Toolbar(toolitems=[('Home', 'Reset original view', 'home', 'home'), ('Back', 'Back to previous …"
      ]
     },
     "metadata": {},
     "output_type": "display_data"
    }
   ],
   "source": [
    "fig, (ax1, ax2) = plt.subplots(1, 2, figsize=(12, 4))\n",
    "\n",
    "ax1.plot(chamfer_points[:, 0], chamfer_points[:, 1], c='C1')\n",
    "ax1.fill(chamfer_points[:, 0], chamfer_points[:, 1])\n",
    "\n",
    "ax2.plot(chamfer_and_bevel_points[:, 0], chamfer_and_bevel_points[:, 1], c='C1')\n",
    "ax2.fill(chamfer_and_bevel_points[:, 0], chamfer_and_bevel_points[:, 1])\n",
    "\n",
    "plt.show()"
   ]
  },
  {
   "cell_type": "markdown",
   "id": "408d38af",
   "metadata": {},
   "source": [
    "# Fillet"
   ]
  },
  {
   "cell_type": "code",
   "execution_count": 7,
   "id": "4b2d7fd2",
   "metadata": {},
   "outputs": [],
   "source": [
    "fillet = {**baseline,\n",
    "          'fillet_base': 0.25,\n",
    "          'fillet_height': 0.15,\n",
    "          'fillet_radius': 0.25}"
   ]
  },
  {
   "cell_type": "code",
   "execution_count": 8,
   "id": "10d5da41",
   "metadata": {},
   "outputs": [],
   "source": [
    "fillet_points = np.array(dipole_module._create_point_table(**fillet))"
   ]
  },
  {
   "cell_type": "code",
   "execution_count": 9,
   "id": "5f1e3c8a",
   "metadata": {},
   "outputs": [
    {
     "data": {
      "application/vnd.jupyter.widget-view+json": {
       "model_id": "fa46707555e1441ea3317b695ff03c65",
       "version_major": 2,
       "version_minor": 0
      },
      "text/plain": [
       "Canvas(toolbar=Toolbar(toolitems=[('Home', 'Reset original view', 'home', 'home'), ('Back', 'Back to previous …"
      ]
     },
     "metadata": {},
     "output_type": "display_data"
    },
    {
     "data": {
      "text/plain": [
       "[<matplotlib.patches.Polygon at 0x7fc062563518>]"
      ]
     },
     "execution_count": 9,
     "metadata": {},
     "output_type": "execute_result"
    }
   ],
   "source": [
    "plt.figure()\n",
    "plt.plot(fillet_points[:, 0], fillet_points[:, 1], c='C1')\n",
    "plt.fill(fillet_points[:, 0], fillet_points[:, 1])"
   ]
  },
  {
   "cell_type": "code",
   "execution_count": null,
   "id": "5b6dd03c",
   "metadata": {},
   "outputs": [],
   "source": []
  }
 ],
 "metadata": {
  "kernelspec": {
   "display_name": "Python 3",
   "language": "python",
   "name": "py3"
  },
  "language_info": {
   "codemirror_mode": {
    "name": "ipython",
    "version": 3
   },
   "file_extension": ".py",
   "mimetype": "text/x-python",
   "name": "python",
   "nbconvert_exporter": "python",
   "pygments_lexer": "ipython3",
   "version": "3.7.2"
  }
 },
 "nbformat": 4,
 "nbformat_minor": 5
}
