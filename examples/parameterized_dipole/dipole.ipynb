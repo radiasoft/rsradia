{
 "cells": [
  {
   "cell_type": "code",
   "execution_count": 1,
   "id": "d14231d7",
   "metadata": {},
   "outputs": [],
   "source": [
    "%matplotlib widget"
   ]
  },
  {
   "cell_type": "code",
   "execution_count": 2,
   "id": "c86ebe87",
   "metadata": {},
   "outputs": [],
   "source": [
    "import matplotlib.pyplot as plt\n",
    "import numpy as np\n",
    "\n",
    "from rsradia.magnets import dipole as dipole_module\n",
    "# import uti_plot\n",
    "import ipywidgets\n",
    "from jupyter_rs_radia import radia_viewer\n",
    "import radia as rad"
   ]
  },
  {
   "cell_type": "markdown",
   "id": "b0e6385d",
   "metadata": {},
   "source": [
    "# Make Dipole\n",
    "Create a simplified H-type dipole and show several plots of the fields and field quality"
   ]
  },
  {
   "cell_type": "code",
   "execution_count": 11,
   "id": "84b05e80",
   "metadata": {},
   "outputs": [],
   "source": [
    "pole_dimensions = {\n",
    "    'pole_width': 3.5,\n",
    "    'pole_separation': 1.5,\n",
    "    'pole_height': 1.5,\n",
    "    'top_height': 1.5,\n",
    "    'gap_height': 0.75,\n",
    "    'leg_width': 1.5\n",
    "}\n",
    "\n",
    "dipole_x_center = 0.0\n",
    "dipole_x_length = 10.0\n",
    "\n",
    "tmin, tmax = 10, 0.15"
   ]
  },
  {
   "cell_type": "code",
   "execution_count": 12,
   "id": "f331965e",
   "metadata": {},
   "outputs": [],
   "source": [
    "dipole = dipole_module.make_dipole(pole_dimensions, dipole_x_center, dipole_x_length, \n",
    "                                   trimesh_mode=1, triangle_min_size=tmin, triangle_max_size=tmax,\n",
    "                                   longitudinal_divisions=10)"
   ]
  },
  {
   "cell_type": "code",
   "execution_count": 13,
   "id": "32f540c3",
   "metadata": {},
   "outputs": [],
   "source": [
    "rv = radia_viewer.RadiaViewer()\n",
    "rv.add_geometry('Pole', dipole)"
   ]
  },
  {
   "cell_type": "code",
   "execution_count": 14,
   "id": "431e8f71",
   "metadata": {},
   "outputs": [
    {
     "data": {
      "application/vnd.jupyter.widget-view+json": {
       "model_id": "7d0544c958aa4fe68e5e4248256f0d8a",
       "version_major": 2,
       "version_minor": 0
      },
      "text/plain": [
       "RadiaViewer(children=(Viewer(children=(VTK(layout=Layout(margin='auto', min_width='25%', width='50%'), model_d…"
      ]
     },
     "metadata": {},
     "output_type": "display_data"
    }
   ],
   "source": [
    "rv.display()"
   ]
  },
  {
   "cell_type": "markdown",
   "id": "c4217e70",
   "metadata": {},
   "source": [
    "# Magnet Analysis"
   ]
  },
  {
   "cell_type": "markdown",
   "id": "42dad073",
   "metadata": {},
   "source": [
    "### Hit solve in Viewer before running"
   ]
  },
  {
   "cell_type": "code",
   "execution_count": 8,
   "id": "5e7a8791",
   "metadata": {},
   "outputs": [],
   "source": [
    "# On Axis field profile\n",
    "xp = np.linspace(-15, 15, 100)\n",
    "mesh = np.stack([xp, np.zeros_like(xp).ravel(), np.zeros_like(xp).ravel()]).T"
   ]
  },
  {
   "cell_type": "code",
   "execution_count": 9,
   "id": "c14b4357",
   "metadata": {},
   "outputs": [],
   "source": [
    "mesh = [list(m) for m in mesh]"
   ]
  },
  {
   "cell_type": "code",
   "execution_count": 10,
   "id": "ce622063",
   "metadata": {},
   "outputs": [],
   "source": [
    "Bz_on_mesh = rad.Fld(dipole, 'Bz', mesh)\n",
    "Bz0 = rad.Fld(dipole, 'Bz', [0, 0, 0])"
   ]
  },
  {
   "cell_type": "code",
   "execution_count": 11,
   "id": "5ba5a41d",
   "metadata": {},
   "outputs": [
    {
     "data": {
      "text/plain": [
       "-1.9376517969329694"
      ]
     },
     "execution_count": 11,
     "metadata": {},
     "output_type": "execute_result"
    }
   ],
   "source": [
    "# Field at center of magnet\n",
    "Bz0"
   ]
  },
  {
   "cell_type": "code",
   "execution_count": 12,
   "id": "42dd773c",
   "metadata": {},
   "outputs": [
    {
     "data": {
      "application/vnd.jupyter.widget-view+json": {
       "model_id": "ca33cae48f074541bb756451f5ab864a",
       "version_major": 2,
       "version_minor": 0
      },
      "text/plain": [
       "Canvas(toolbar=Toolbar(toolitems=[('Home', 'Reset original view', 'home', 'home'), ('Back', 'Back to previous …"
      ]
     },
     "metadata": {},
     "output_type": "display_data"
    }
   ],
   "source": [
    "plt.figure()\n",
    "plt.plot(xp, np.array(Bz_on_mesh) / Bz0)\n",
    "plt.xlabel('x')\n",
    "plt.ylabel('$B_z / B_z^0$')\n",
    "plt.show()"
   ]
  },
  {
   "cell_type": "markdown",
   "id": "883e6b73",
   "metadata": {},
   "source": [
    "### Y/Z slice at X = 0 \n",
    "\n",
    "Plot $Bz$ on a grid in YZ in the center of the dipole a $x=0$. This meshed data can then be used to calculate the 'good field region' (GFR) that is the region in YZ where $B_z(y, z) - B_{target} < tolerance$ for some tolerance. Here we just assume the the target B field is Bz at x,y,z = 0. "
   ]
  },
  {
   "cell_type": "code",
   "execution_count": 13,
   "id": "9a0af945",
   "metadata": {},
   "outputs": [],
   "source": [
    "Y, Z = np.meshgrid(np.linspace(-pole_dimensions['pole_width'], pole_dimensions['pole_width'], 100),\n",
    "                   np.linspace(-pole_dimensions['gap_height'], pole_dimensions['gap_height'], 100))"
   ]
  },
  {
   "cell_type": "code",
   "execution_count": 14,
   "id": "a9bf3670",
   "metadata": {},
   "outputs": [],
   "source": [
    "mesh = np.stack([np.zeros_like(Y).ravel(), Y.ravel(), Z.ravel()]).T"
   ]
  },
  {
   "cell_type": "code",
   "execution_count": 15,
   "id": "d84b5280",
   "metadata": {},
   "outputs": [],
   "source": [
    "mesh = [list(m) for m in mesh]"
   ]
  },
  {
   "cell_type": "code",
   "execution_count": 16,
   "id": "1ebe8ec6",
   "metadata": {},
   "outputs": [],
   "source": [
    "Bz_on_mesh = rad.Fld(dipole, 'Bz', mesh)\n",
    "Bz0 = rad.Fld(dipole, 'Bz', [0, 0, 0])"
   ]
  },
  {
   "cell_type": "markdown",
   "id": "c198ab44",
   "metadata": {},
   "source": [
    "### Plot Bz on Mesh"
   ]
  },
  {
   "cell_type": "code",
   "execution_count": 17,
   "id": "73095060",
   "metadata": {},
   "outputs": [
    {
     "data": {
      "application/vnd.jupyter.widget-view+json": {
       "model_id": "64794179dea644feb8aaf9601331407e",
       "version_major": 2,
       "version_minor": 0
      },
      "text/plain": [
       "Canvas(toolbar=Toolbar(toolitems=[('Home', 'Reset original view', 'home', 'home'), ('Back', 'Back to previous …"
      ]
     },
     "metadata": {},
     "output_type": "display_data"
    }
   ],
   "source": [
    "fig, ax = plt.subplots(1,1, figsize=(12, 4))\n",
    "ax.set_aspect('equal')\n",
    "ct = ax.contourf(Y, Z, np.array(Bz_on_mesh).reshape(*Y.shape) / Bz0, levels=64)\n",
    "# ax.contour(Y, Z, np.array(Bz_on_mesh).reshape(*Y.shape) / Bz0, levels=[0.5, 1.0, 1.25], colors='r')\n",
    "plt.colorbar(ct)\n",
    "ax.set_xlabel('x (mm)')\n",
    "ax.set_ylabel('y (mm)')\n",
    "\n",
    "plt.show()"
   ]
  },
  {
   "cell_type": "markdown",
   "id": "5d32dfe9",
   "metadata": {},
   "source": [
    "### Setup and plot GFR on Mesh"
   ]
  },
  {
   "cell_type": "code",
   "execution_count": 18,
   "id": "3af99d26",
   "metadata": {},
   "outputs": [],
   "source": [
    "def gfr(bz_mesh, bz0, gf_level=10**3):\n",
    "    return np.abs(np.array(bz_mesh) - bz0) / np.abs(bz0)\n",
    "    "
   ]
  },
  {
   "cell_type": "code",
   "execution_count": 19,
   "id": "2b86b8f0",
   "metadata": {},
   "outputs": [],
   "source": [
    "gf_level = gfr(Bz_on_mesh, Bz0)"
   ]
  },
  {
   "cell_type": "code",
   "execution_count": 20,
   "id": "7aa3aa66",
   "metadata": {},
   "outputs": [
    {
     "data": {
      "application/vnd.jupyter.widget-view+json": {
       "model_id": "78b30e9063f7486f9041092f00d6acdd",
       "version_major": 2,
       "version_minor": 0
      },
      "text/plain": [
       "Canvas(toolbar=Toolbar(toolitems=[('Home', 'Reset original view', 'home', 'home'), ('Back', 'Back to previous …"
      ]
     },
     "metadata": {},
     "output_type": "display_data"
    }
   ],
   "source": [
    "fig, ax = plt.subplots(1,1, figsize=(12, 4))\n",
    "ax.set_aspect('equal')\n",
    "ct = ax.contourf(Y, Z, gfr(Bz_on_mesh, Bz0).reshape(*Y.shape), levels=64)\n",
    "plt.colorbar(ct)\n",
    "ax.set_xlabel('x (mm)')\n",
    "ax.set_ylabel('y (mm)')\n",
    "\n",
    "plt.show()"
   ]
  },
  {
   "cell_type": "code",
   "execution_count": 21,
   "id": "c245d20b",
   "metadata": {},
   "outputs": [
    {
     "data": {
      "application/vnd.jupyter.widget-view+json": {
       "model_id": "92be36796dbf4d05a1648dcb5ec09184",
       "version_major": 2,
       "version_minor": 0
      },
      "text/plain": [
       "Canvas(toolbar=Toolbar(toolitems=[('Home', 'Reset original view', 'home', 'home'), ('Back', 'Back to previous …"
      ]
     },
     "metadata": {},
     "output_type": "display_data"
    }
   ],
   "source": [
    "fig, ax = plt.subplots(1,1, figsize=(12, 4))\n",
    "\n",
    "ax.set_title(\"Error < 1e-4\")\n",
    "ax.set_aspect('equal')\n",
    "ct = ax.contourf(Y, Z, gfr(Bz_on_mesh, Bz0).reshape(*Y.shape) < 1e-4, levels=64)\n",
    "# plt.colorbar(ct)\n",
    "ax.set_xlabel('x (mm)')\n",
    "ax.set_ylabel('y (mm)')\n",
    "\n",
    "plt.show()"
   ]
  },
  {
   "cell_type": "markdown",
   "id": "3860169a",
   "metadata": {},
   "source": [
    "# Integrated Multipole Content"
   ]
  },
  {
   "cell_type": "code",
   "execution_count": 22,
   "id": "7c71d030",
   "metadata": {},
   "outputs": [],
   "source": [
    "def harm(obj, y, z, R, harmonics, start=-10, end=10, integral_setting = 'inf'):\n",
    "    arHarm = []\n",
    "    angles = np.linspace(0, 2 * np.pi, harmonics, endpoint=False)\n",
    "    for angle in angles:\n",
    "        cosTet = np.cos(angle)\n",
    "        sinTet = np.sin(angle)\n",
    "        re = rad.FldInt(obj, integral_setting, 'ibz', [start, y + R * cosTet, z + R * sinTet],\n",
    "                        [end, y + R * cosTet, z + R * sinTet])\n",
    "        im = rad.FldInt(obj, integral_setting, 'iby', [start, y + R * cosTet, z + R * sinTet],\n",
    "                        [end, y + R * cosTet, z + R * sinTet])\n",
    "        arHarm.append(complex(re, im))\n",
    "    return arHarm\n",
    "\n",
    "\n",
    "def multipole(arHarm, R, n):\n",
    "    s = 0\n",
    "    nharm = len(arHarm)\n",
    "    for i, harm in enumerate(arHarm):\n",
    "        arg = -2 * np.pi / nharm * n * i\n",
    "        s += harm * complex(np.cos(arg), np.sin(arg))\n",
    "    return s / nharm / (R ** n)"
   ]
  },
  {
   "cell_type": "code",
   "execution_count": 23,
   "id": "1f7ce5e9",
   "metadata": {},
   "outputs": [],
   "source": [
    "# harmonic analysis of the field integrals\n",
    "nharm = 8; radius = 0.25; y = 0; z = 0;\n",
    "w = harm(dipole, y, z, radius, nharm);\n",
    "\n",
    "mm = [multipole(w, radius, i) for i in range(nharm)];\n",
    "round_mm = [complex(round(mm[i].real, 9), round(mm[i].imag, 9)) for i in range(nharm)];"
   ]
  },
  {
   "cell_type": "code",
   "execution_count": 24,
   "id": "a27a37ce",
   "metadata": {},
   "outputs": [
    {
     "data": {
      "application/vnd.jupyter.widget-view+json": {
       "model_id": "e7cf577724554bf79ad23a0d72bb8e73",
       "version_major": 2,
       "version_minor": 0
      },
      "text/plain": [
       "Canvas(toolbar=Toolbar(toolitems=[('Home', 'Reset original view', 'home', 'home'), ('Back', 'Back to previous …"
      ]
     },
     "metadata": {},
     "output_type": "display_data"
    }
   ],
   "source": [
    "X = np.arange(nharm)\n",
    "fig, ax = plt.subplots()\n",
    "re_comp = [ harms.real for harms in round_mm]\n",
    "im_comp = [ harms.imag for harms in round_mm]\n",
    "ax.bar(X + 0.00, np.abs(re_comp), color = 'b', width = 0.25)\n",
    "ax.bar(X + 0.25, np.abs(im_comp), color = 'g', width = 0.25)\n",
    "ax.set_yscale('log')"
   ]
  },
  {
   "cell_type": "code",
   "execution_count": null,
   "id": "605c427d",
   "metadata": {},
   "outputs": [],
   "source": []
  }
 ],
 "metadata": {
  "kernelspec": {
   "display_name": "Python 3",
   "language": "python",
   "name": "py3"
  },
  "language_info": {
   "codemirror_mode": {
    "name": "ipython",
    "version": 3
   },
   "file_extension": ".py",
   "mimetype": "text/x-python",
   "name": "python",
   "nbconvert_exporter": "python",
   "pygments_lexer": "ipython3",
   "version": "3.7.2"
  }
 },
 "nbformat": 4,
 "nbformat_minor": 5
}
