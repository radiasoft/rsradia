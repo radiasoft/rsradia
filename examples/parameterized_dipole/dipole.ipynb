{
 "cells": [
  {
   "cell_type": "code",
   "execution_count": null,
   "id": "e6655a53",
   "metadata": {},
   "outputs": [],
   "source": [
    "%matplotlib widget"
   ]
  },
  {
   "cell_type": "code",
   "execution_count": null,
   "id": "3ec5460c",
   "metadata": {},
   "outputs": [],
   "source": [
    "import matplotlib.pyplot as plt\n",
    "import numpy as np\n",
    "\n",
    "from rsradia.magnets import dipole as dipole_module\n",
    "# import uti_plot\n",
    "import ipywidgets\n",
    "from jupyter_rs_radia import radia_viewer\n",
    "import radia as rad"
   ]
  },
  {
   "cell_type": "markdown",
   "id": "b3671b1a",
   "metadata": {},
   "source": [
    "# Make Dipole\n",
    "Create a simplified H-type dipole and show several plots of the fields and field quality"
   ]
  },
  {
   "cell_type": "code",
   "execution_count": 3,
   "id": "e2e49de2",
   "metadata": {},
   "outputs": [],
   "source": [
    "pole_dimensions = {\n",
    "    'pole_width': 3.5,\n",
    "    'pole_separation': 1.5,\n",
    "    'pole_height': 1.5,\n",
    "    'top_height': 1.5,\n",
    "    'gap_height': 0.75,\n",
    "    'leg_width': 1.5\n",
    "}\n",
    "\n",
    "dipole_x_center = 0.0\n",
    "dipole_x_length = 10.0"
   ]
  },
  {
   "cell_type": "code",
   "execution_count": 4,
   "id": "1c6550e0",
   "metadata": {},
   "outputs": [],
   "source": [
    "dipole = dipole_module.make_dipole(pole_dimensions, dipole_x_center, dipole_x_length, trimesh_mode=0, longitudinal_divisions=10)"
   ]
  },
  {
   "cell_type": "code",
   "execution_count": 5,
   "id": "aa509e7e",
   "metadata": {},
   "outputs": [],
   "source": [
    "rv = radia_viewer.RadiaViewer()\n",
    "rv.add_geometry('Pole', dipole)"
   ]
  },
  {
   "cell_type": "code",
   "execution_count": 6,
   "id": "d19ebcc1",
   "metadata": {},
   "outputs": [
    {
     "data": {
      "application/vnd.jupyter.widget-view+json": {
       "model_id": "a124a320ebad4cc0b6ec198c054e7c8a",
       "version_major": 2,
       "version_minor": 0
      },
      "text/plain": [
       "RadiaViewer(children=(Viewer(children=(VTK(layout=Layout(margin='auto', min_width='25%', width='50%'), model_d…"
      ]
     },
     "metadata": {},
     "output_type": "display_data"
    }
   ],
   "source": [
    "rv.display()"
   ]
  },
  {
   "cell_type": "markdown",
   "id": "ffd01c87",
   "metadata": {},
   "source": [
    "# Magnet Analysis"
   ]
  },
  {
   "cell_type": "markdown",
   "id": "770890e4",
   "metadata": {},
   "source": [
    "### Hit solve in Viewer before running"
   ]
  },
  {
   "cell_type": "code",
   "execution_count": 9,
   "id": "e4b6f4a0",
   "metadata": {},
   "outputs": [],
   "source": [
    "# On Axis field profile\n",
    "xp = np.linspace(-15, 15, 100)\n",
    "mesh = np.stack([xp, np.zeros_like(xp).ravel(), np.zeros_like(xp).ravel()]).T"
   ]
  },
  {
   "cell_type": "code",
   "execution_count": 10,
   "id": "f79833e3",
   "metadata": {},
   "outputs": [],
   "source": [
    "mesh = [list(m) for m in mesh]"
   ]
  },
  {
   "cell_type": "code",
   "execution_count": 11,
   "id": "656f5566",
   "metadata": {},
   "outputs": [],
   "source": [
    "Bz_on_mesh = rad.Fld(dipole, 'Bz', mesh)\n",
    "Bz0 = rad.Fld(dipole, 'Bz', [0, 0, 0])"
   ]
  },
  {
   "cell_type": "code",
   "execution_count": 12,
   "id": "b8e9c82e",
   "metadata": {},
   "outputs": [
    {
     "data": {
      "text/plain": [
       "-1.9376517975149714"
      ]
     },
     "execution_count": 12,
     "metadata": {},
     "output_type": "execute_result"
    }
   ],
   "source": [
    "# Field at center of magnet\n",
    "Bz0"
   ]
  },
  {
   "cell_type": "code",
   "execution_count": 13,
   "id": "08813a63",
   "metadata": {},
   "outputs": [
    {
     "data": {
      "application/vnd.jupyter.widget-view+json": {
       "model_id": "fa186ea4caf24c0586114a10080894a3",
       "version_major": 2,
       "version_minor": 0
      },
      "text/plain": [
       "Canvas(toolbar=Toolbar(toolitems=[('Home', 'Reset original view', 'home', 'home'), ('Back', 'Back to previous …"
      ]
     },
     "metadata": {},
     "output_type": "display_data"
    }
   ],
   "source": [
    "plt.figure()\n",
    "plt.plot(xp, np.array(Bz_on_mesh) / Bz0)\n",
    "plt.xlabel('x')\n",
    "plt.ylabel('$B_z / B_z^0$')\n",
    "plt.show()"
   ]
  },
  {
   "cell_type": "markdown",
   "id": "6fe156f3",
   "metadata": {},
   "source": [
    "### Y/Z slice at X = 0 \n",
    "\n",
    "Plot $Bz$ on a grid in YZ in the center of the dipole a $x=0$. This meshed data can then be used to calculate the 'good field region' (GFR) that is the region in YZ where $B_z(y, z) - B_{target} < tolerance$ for some tolerance. Here we just assume the the target B field is Bz at x,y,z = 0. "
   ]
  },
  {
   "cell_type": "code",
   "execution_count": 14,
   "id": "7df4c00f",
   "metadata": {},
   "outputs": [],
   "source": [
    "Y, Z = np.meshgrid(np.linspace(-pole_dimensions['pole_width'], pole_dimensions['pole_width'], 100),\n",
    "                   np.linspace(-pole_dimensions['gap_height'], pole_dimensions['gap_height'], 100))"
   ]
  },
  {
   "cell_type": "code",
   "execution_count": 15,
   "id": "29f0bea7",
   "metadata": {},
   "outputs": [],
   "source": [
    "mesh = np.stack([np.zeros_like(Y).ravel(), Y.ravel(), Z.ravel()]).T"
   ]
  },
  {
   "cell_type": "code",
   "execution_count": 16,
   "id": "2b8de80c",
   "metadata": {},
   "outputs": [],
   "source": [
    "mesh = [list(m) for m in mesh]"
   ]
  },
  {
   "cell_type": "code",
   "execution_count": 17,
   "id": "79edb3e7",
   "metadata": {},
   "outputs": [],
   "source": [
    "Bz_on_mesh = rad.Fld(dipole, 'Bz', mesh)\n",
    "Bz0 = rad.Fld(dipole, 'Bz', [0, 0, 0])"
   ]
  },
  {
   "cell_type": "markdown",
   "id": "dedbb26a",
   "metadata": {},
   "source": [
    "### Plot Bz on Mesh"
   ]
  },
  {
   "cell_type": "code",
   "execution_count": 20,
   "id": "bf2c61a0",
   "metadata": {},
   "outputs": [
    {
     "data": {
      "application/vnd.jupyter.widget-view+json": {
       "model_id": "08373c3113a6487d903c7659151d94e5",
       "version_major": 2,
       "version_minor": 0
      },
      "text/plain": [
       "Canvas(toolbar=Toolbar(toolitems=[('Home', 'Reset original view', 'home', 'home'), ('Back', 'Back to previous …"
      ]
     },
     "metadata": {},
     "output_type": "display_data"
    }
   ],
   "source": [
    "fig, ax = plt.subplots(1,1, figsize=(12, 4))\n",
    "ax.set_aspect('equal')\n",
    "ct = ax.contourf(Y, Z, np.array(Bz_on_mesh).reshape(*Y.shape) / Bz0, levels=64)\n",
    "ax.contour(Y, Z, np.array(Bz_on_mesh).reshape(*Y.shape) / Bz0, levels=[0.5, 1.0, 1.25], colors='r')\n",
    "plt.colorbar(ct)\n",
    "ax.set_xlabel('x (mm)')\n",
    "ax.set_ylabel('y (mm)')\n",
    "\n",
    "plt.show()"
   ]
  },
  {
   "cell_type": "markdown",
   "id": "def933d1",
   "metadata": {},
   "source": [
    "### Setup and plot GFR on Mesh"
   ]
  },
  {
   "cell_type": "code",
   "execution_count": 18,
   "id": "784d90e7",
   "metadata": {},
   "outputs": [],
   "source": [
    "def gfr(bz_mesh, bz0, gf_level=10**3):\n",
    "    return np.abs(np.array(bz_mesh) - bz0) / np.abs(bz0)\n",
    "    "
   ]
  },
  {
   "cell_type": "code",
   "execution_count": 19,
   "id": "d27ca86b",
   "metadata": {},
   "outputs": [],
   "source": [
    "gf_level = gfr(Bz_on_mesh, Bz0)"
   ]
  },
  {
   "cell_type": "code",
   "execution_count": 21,
   "id": "5b6d86e6",
   "metadata": {},
   "outputs": [
    {
     "data": {
      "application/vnd.jupyter.widget-view+json": {
       "model_id": "9a1b0ee9e9b649d8ad1cd855bb0fa385",
       "version_major": 2,
       "version_minor": 0
      },
      "text/plain": [
       "Canvas(toolbar=Toolbar(toolitems=[('Home', 'Reset original view', 'home', 'home'), ('Back', 'Back to previous …"
      ]
     },
     "metadata": {},
     "output_type": "display_data"
    }
   ],
   "source": [
    "fig, ax = plt.subplots(1,1, figsize=(12, 4))\n",
    "ax.set_aspect('equal')\n",
    "ct = ax.contourf(Y, Z, gfr(Bz_on_mesh, Bz0).reshape(*Y.shape), levels=64)\n",
    "plt.colorbar(ct)\n",
    "ax.set_xlabel('x (mm)')\n",
    "ax.set_ylabel('y (mm)')\n",
    "\n",
    "plt.show()"
   ]
  },
  {
   "cell_type": "code",
   "execution_count": 23,
   "id": "d297f1f7",
   "metadata": {},
   "outputs": [
    {
     "data": {
      "application/vnd.jupyter.widget-view+json": {
       "model_id": "465bf47369fc400b8717d634be902e04",
       "version_major": 2,
       "version_minor": 0
      },
      "text/plain": [
       "Canvas(toolbar=Toolbar(toolitems=[('Home', 'Reset original view', 'home', 'home'), ('Back', 'Back to previous …"
      ]
     },
     "metadata": {},
     "output_type": "display_data"
    }
   ],
   "source": [
    "fig, ax = plt.subplots(1,1, figsize=(12, 4))\n",
    "\n",
    "ax.set_title(\"Error < 1e-4\")\n",
    "ax.set_aspect('equal')\n",
    "ct = ax.contourf(Y, Z, gfr(Bz_on_mesh, Bz0).reshape(*Y.shape) < 1e-4, levels=64)\n",
    "# plt.colorbar(ct)\n",
    "ax.set_xlabel('x (mm)')\n",
    "ax.set_ylabel('y (mm)')\n",
    "\n",
    "plt.show()"
   ]
  },
  {
   "cell_type": "markdown",
   "id": "0104b536",
   "metadata": {},
   "source": [
    "# Integrated Multipole Content"
   ]
  },
  {
   "cell_type": "code",
   "execution_count": 24,
   "id": "d275e5b4",
   "metadata": {},
   "outputs": [],
   "source": [
    "def harm(obj, y, z, R, harmonics, start=-10, end=10, integral_setting = 'inf'):\n",
    "    arHarm = []\n",
    "    angles = np.linspace(0, 2 * np.pi, harmonics, endpoint=False)\n",
    "    for angle in angles:\n",
    "        cosTet = np.cos(angle)\n",
    "        sinTet = np.sin(angle)\n",
    "        re = rad.FldInt(obj, integral_setting, 'ibz', [start, y + R * cosTet, z + R * sinTet],\n",
    "                        [end, y + R * cosTet, z + R * sinTet])\n",
    "        im = rad.FldInt(obj, integral_setting, 'iby', [start, y + R * cosTet, z + R * sinTet],\n",
    "                        [end, y + R * cosTet, z + R * sinTet])\n",
    "        arHarm.append(complex(re, im))\n",
    "    return arHarm\n",
    "\n",
    "\n",
    "def multipole(arHarm, R, n):\n",
    "    s = 0\n",
    "    nharm = len(arHarm)\n",
    "    for i, harm in enumerate(arHarm):\n",
    "        arg = -2 * np.pi / nharm * n * i\n",
    "        s += harm * complex(np.cos(arg), np.sin(arg))\n",
    "    return s / nharm / (R ** n)"
   ]
  },
  {
   "cell_type": "code",
   "execution_count": 26,
   "id": "4cc0a060",
   "metadata": {},
   "outputs": [],
   "source": [
    "# harmonic analysis of the field integrals\n",
    "nharm = 8; radius = 0.25; y = 0; z = 0;\n",
    "w = harm(dipole, y, z, radius, nharm);\n",
    "\n",
    "mm = [multipole(w, radius, i) for i in range(nharm)];\n",
    "round_mm = [complex(round(mm[i].real, 9), round(mm[i].imag, 9)) for i in range(nharm)];"
   ]
  },
  {
   "cell_type": "code",
   "execution_count": 27,
   "id": "36296a41",
   "metadata": {},
   "outputs": [
    {
     "name": "stdout",
     "output_type": "stream",
     "text": [
      "[(-16.771695444+5.439e-06j), (-1.7939e-05-5.92e-07j), (-0.230239497-2.923e-06j), (8.777e-06+5.28e-07j), (0.107409174+1.932e-06j), (-9.138e-06-5.88e-07j), (-0.108089422-2.277e-06j), (1.1482e-05+9e-07j)]\n"
     ]
    }
   ],
   "source": [
    "print(round_mm)"
   ]
  },
  {
   "cell_type": "code",
   "execution_count": 28,
   "id": "555e0ba5",
   "metadata": {},
   "outputs": [],
   "source": [
    "xxx = round_mm[0]"
   ]
  },
  {
   "cell_type": "code",
   "execution_count": 29,
   "id": "e73d79ff",
   "metadata": {},
   "outputs": [
    {
     "data": {
      "application/vnd.jupyter.widget-view+json": {
       "model_id": "388a95f11766477fa8b2a84c7e844a5e",
       "version_major": 2,
       "version_minor": 0
      },
      "text/plain": [
       "Canvas(toolbar=Toolbar(toolitems=[('Home', 'Reset original view', 'home', 'home'), ('Back', 'Back to previous …"
      ]
     },
     "metadata": {},
     "output_type": "display_data"
    }
   ],
   "source": [
    "X = np.arange(nharm)\n",
    "fig, ax = plt.subplots()\n",
    "re_comp = [ harms.real for harms in round_mm]\n",
    "im_comp = [ harms.imag for harms in round_mm]\n",
    "ax.bar(X + 0.00, np.abs(re_comp), color = 'b', width = 0.25)\n",
    "ax.bar(X + 0.25, np.abs(im_comp), color = 'g', width = 0.25)\n",
    "ax.set_yscale('log')"
   ]
  },
  {
   "cell_type": "code",
   "execution_count": 121,
   "id": "06fc7e52",
   "metadata": {},
   "outputs": [],
   "source": [
    "# harmonic analysis of the field integrals\n",
    "n = 8 \n",
    "radius = 0.25\n",
    "y = 0 \n",
    "z = 0\n",
    "w = harm2(dipole, y, z, radius, 256)"
   ]
  },
  {
   "cell_type": "code",
   "execution_count": 122,
   "id": "374d65f8",
   "metadata": {},
   "outputs": [
    {
     "data": {
      "text/plain": [
       "(-17.08712515861632+5.446021283390511e-06j)"
      ]
     },
     "execution_count": 122,
     "metadata": {},
     "output_type": "execute_result"
    }
   ],
   "source": [
    "multipole2(w, radius, 0)"
   ]
  },
  {
   "cell_type": "code",
   "execution_count": 128,
   "id": "0ccb0605",
   "metadata": {},
   "outputs": [
    {
     "name": "stdout",
     "output_type": "stream",
     "text": [
      "1e-05\n",
      "(-16.771697615942458+5.441661314820956e-06j)\n",
      "0.0001\n",
      "(-16.77169763031978+5.441812137009028e-06j)\n",
      "0.001\n",
      "(-16.771891315761984+5.439526175799857e-06j)\n",
      "0.01\n",
      "(-16.76818789353493+5.412174832843293e-06j)\n",
      "0.1\n",
      "(-16.77169771051664+5.441864331977644e-06j)\n",
      "1.0\n",
      "(-16.771697617817484+5.4418637429191116e-06j)\n",
      "10.0\n",
      "(-16.771697616807828+5.441866493957441e-06j)\n",
      "100.0\n",
      "(-16.771697620093075+5.441861573915853e-06j)\n",
      "1000.0\n",
      "(-16.771697949683983+5.4418649257160275e-06j)\n",
      "10000.0\n",
      "(-16.771730907504256+5.441867516704866e-06j)\n",
      "100000.0\n",
      "(-16.775025060686772+5.442099299328993e-06j)\n",
      "1000000.0\n",
      "(-17.08712512633519+5.438099444675772e-06j)\n",
      "10000000.0\n",
      "(-20.598493793569496+5.444275247692759e-06j)\n",
      "100000000.0\n",
      "(-20.95836837663297+5.43816751158205e-06j)\n"
     ]
    }
   ],
   "source": [
    "n = 8 \n",
    "radius = 0.25\n",
    "y = 0 \n",
    "z = 0\n",
    "for dist in np.logspace(-5, 8, 14):\n",
    "    print(dist)\n",
    "    w = harm2(dipole, y, z, radius, 256, start=-dist, end=dist)\n",
    "    print(multipole2(w, radius, 0))"
   ]
  },
  {
   "cell_type": "code",
   "execution_count": null,
   "id": "c4f28d95",
   "metadata": {},
   "outputs": [
    {
     "name": "stdout",
     "output_type": "stream",
     "text": [
      "1e-05\n",
      "(-3.875393652719534e-05-1.4031327669394773e-11j)\n",
      "0.0001\n",
      "(-0.0003875394212913593-1.4058681096884014e-10j)\n",
      "0.001\n",
      "(-0.003875395019364175-1.4058738936253928e-09j)\n",
      "0.01\n",
      "(-0.038753947396005226-1.4058551778678758e-08j)\n",
      "0.1\n",
      "(-0.387536729842386-1.4048405120102678e-07j)\n",
      "1.0\n",
      "(-3.877224412964276-1.2470050063337367e-06j)\n",
      "10.0\n",
      "(-17.617963287319967+5.837755926984926e-06j)\n",
      "100.0\n",
      "(-16.77039271221385+5.4326485582712e-06j)\n",
      "1000.0\n",
      "(-16.761736457615935+5.423712274248973e-06j)\n",
      "10000.0\n"
     ]
    }
   ],
   "source": [
    "n = 8 \n",
    "radius = 0.25\n",
    "y = 0 \n",
    "z = 0\n",
    "for dist in np.logspace(-5, 8, 14):\n",
    "    print(dist)\n",
    "    w = harm2(dipole, y, z, radius, 256, start=-dist, end=dist, integral_setting = 'fin')\n",
    "    print(multipole2(w, radius, 0))"
   ]
  },
  {
   "cell_type": "code",
   "execution_count": null,
   "id": "7533bfc1",
   "metadata": {},
   "outputs": [],
   "source": []
  }
 ],
 "metadata": {
  "kernelspec": {
   "display_name": "Python 3",
   "language": "python",
   "name": "py3"
  },
  "language_info": {
   "codemirror_mode": {
    "name": "ipython",
    "version": 3
   },
   "file_extension": ".py",
   "mimetype": "text/x-python",
   "name": "python",
   "nbconvert_exporter": "python",
   "pygments_lexer": "ipython3",
   "version": "3.7.2"
  }
 },
 "nbformat": 4,
 "nbformat_minor": 5
}
