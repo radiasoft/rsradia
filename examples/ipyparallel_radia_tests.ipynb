{
 "cells": [
  {
   "cell_type": "markdown",
   "metadata": {},
   "source": [
    "# RADIA MPI tests"
   ]
  },
  {
   "cell_type": "markdown",
   "metadata": {},
   "source": [
    "## Start the controller and engines with MPI"
   ]
  },
  {
   "cell_type": "markdown",
   "metadata": {},
   "source": [
    "ipyparallel installed with `pip install ipyparallel`\n",
    "\n",
    "The following cell starts the IPyParallel MPI cluster manually with\n",
    "\n",
    "*ipcontroller --ip=*'\\*'\n",
    "\n",
    "*mpiexec -n=8 ipengine*\n"
   ]
  },
  {
   "cell_type": "markdown",
   "metadata": {},
   "source": [
    "# After completing steps above:"
   ]
  },
  {
   "cell_type": "markdown",
   "metadata": {},
   "source": [
    "Import IPyParallel and start the Client"
   ]
  },
  {
   "cell_type": "code",
   "execution_count": 1,
   "metadata": {},
   "outputs": [],
   "source": [
    "# Import IPyParallel and mpi4py\n",
    "import ipyparallel as ipp\n",
    "# Create a client\n",
    "rc = ipp.Client()"
   ]
  },
  {
   "cell_type": "code",
   "execution_count": 2,
   "metadata": {
    "scrolled": true
   },
   "outputs": [
    {
     "name": "stdout",
     "output_type": "stream",
     "text": [
      "MPI engines:  [0, 1, 2, 3, 4, 5, 6, 7]\n",
      "[stdout:0] Hello from engine  1\n",
      "[stdout:1] Hello from engine  3\n",
      "[stdout:2] Hello from engine  2\n",
      "[stdout:3] Hello from engine  6\n",
      "[stdout:4] Hello from engine  4\n",
      "[stdout:5] Hello from engine  0\n",
      "[stdout:6] Hello from engine  5\n",
      "[stdout:7] Hello from engine  7\n"
     ]
    }
   ],
   "source": [
    "# Importing the MPI communicator from mpi4py does work but seems to be unecessary \n",
    "#%px from mpi4py import MPI\n",
    "\n",
    "# MPI engines list\n",
    "print('MPI engines: ', rc.ids)\n",
    "\n",
    "# Hello from engines\n",
    "%px print('Hello from engine ', MPI.COMM_WORLD.rank)"
   ]
  },
  {
   "cell_type": "markdown",
   "metadata": {},
   "source": [
    "### Simple test of MPI communicator"
   ]
  },
  {
   "cell_type": "code",
   "execution_count": 8,
   "metadata": {},
   "outputs": [],
   "source": [
    "%%px\n",
    "if MPI.COMM_WORLD.rank == 0:\n",
    "    data = {'key1' : [7, 2.72, 2+3j],\n",
    "            'key2' : ( 'abc', 'xyz')}\n",
    "else:\n",
    "    data = None\n",
    "    \n",
    "data = MPI.COMM_WORLD.bcast(data, root=0)"
   ]
  },
  {
   "cell_type": "code",
   "execution_count": 9,
   "metadata": {},
   "outputs": [
    {
     "name": "stdout",
     "output_type": "stream",
     "text": [
      "[stdout:0] 1 {'key1': [7, 2.72, (2+3j)], 'key2': ('abc', 'xyz')}\n",
      "[stdout:1] 3 {'key1': [7, 2.72, (2+3j)], 'key2': ('abc', 'xyz')}\n",
      "[stdout:2] 2 {'key1': [7, 2.72, (2+3j)], 'key2': ('abc', 'xyz')}\n",
      "[stdout:3] 6 {'key1': [7, 2.72, (2+3j)], 'key2': ('abc', 'xyz')}\n",
      "[stdout:4] 4 {'key1': [7, 2.72, (2+3j)], 'key2': ('abc', 'xyz')}\n",
      "[stdout:5] 0 {'key1': [7, 2.72, (2+3j)], 'key2': ('abc', 'xyz')}\n",
      "[stdout:6] 5 {'key1': [7, 2.72, (2+3j)], 'key2': ('abc', 'xyz')}\n",
      "[stdout:7] 7 {'key1': [7, 2.72, (2+3j)], 'key2': ('abc', 'xyz')}\n"
     ]
    }
   ],
   "source": [
    "%px print(MPI.COMM_WORLD.rank, data)"
   ]
  },
  {
   "cell_type": "markdown",
   "metadata": {},
   "source": [
    "## Start RADIA on engines"
   ]
  },
  {
   "cell_type": "markdown",
   "metadata": {},
   "source": [
    "A simple way to use Radia would be to launch it on the engines, as follows:"
   ]
  },
  {
   "cell_type": "code",
   "execution_count": 3,
   "metadata": {},
   "outputs": [
    {
     "name": "stdout",
     "output_type": "stream",
     "text": [
      "[stdout:0] Hello from engine  1\n",
      "[stdout:1] Hello from engine  3\n",
      "[stdout:2] Hello from engine  2\n",
      "[stdout:3] Hello from engine  6\n",
      "[stdout:4] Hello from engine  4\n",
      "[stdout:5] Hello from engine  0\n",
      "[stdout:6] Hello from engine  5\n",
      "[stdout:7] Hello from engine  7\n",
      "[stdout:0] /home/vagrant/.pyenv/versions/3.7.2/envs/py3/lib/python3.7/site-packages/radia.cpython-37m-x86_64-linux-gnu.so\n",
      "[stdout:1] /home/vagrant/.pyenv/versions/3.7.2/envs/py3/lib/python3.7/site-packages/radia.cpython-37m-x86_64-linux-gnu.so\n",
      "[stdout:2] /home/vagrant/.pyenv/versions/3.7.2/envs/py3/lib/python3.7/site-packages/radia.cpython-37m-x86_64-linux-gnu.so\n",
      "[stdout:3] /home/vagrant/.pyenv/versions/3.7.2/envs/py3/lib/python3.7/site-packages/radia.cpython-37m-x86_64-linux-gnu.so\n",
      "[stdout:4] /home/vagrant/.pyenv/versions/3.7.2/envs/py3/lib/python3.7/site-packages/radia.cpython-37m-x86_64-linux-gnu.so\n",
      "[stdout:5] /home/vagrant/.pyenv/versions/3.7.2/envs/py3/lib/python3.7/site-packages/radia.cpython-37m-x86_64-linux-gnu.so\n",
      "[stdout:6] /home/vagrant/.pyenv/versions/3.7.2/envs/py3/lib/python3.7/site-packages/radia.cpython-37m-x86_64-linux-gnu.so\n",
      "[stdout:7] /home/vagrant/.pyenv/versions/3.7.2/envs/py3/lib/python3.7/site-packages/radia.cpython-37m-x86_64-linux-gnu.so\n"
     ]
    },
    {
     "ename": "CompositeError",
     "evalue": "one or more exceptions from call to method: execute\n[0:execute]: RuntimeError: Failed to execute MPI function.\n[1:execute]: RuntimeError: Failed to execute MPI function.\n[2:execute]: RuntimeError: Failed to execute MPI function.\n[3:execute]: RuntimeError: Failed to execute MPI function.\n.... 4 more exceptions ...",
     "output_type": "error",
     "traceback": [
      "[0:execute]: ",
      "\u001b[0;31m---------------------------------------------------------------------------\u001b[0m\u001b[0;31mRuntimeError\u001b[0m                              Traceback (most recent call last)\u001b[0;32m<ipython-input-33-42000bf26c2d>\u001b[0m in \u001b[0;36m<module>\u001b[0;34m\u001b[0m",
      "\u001b[0;32m----> 1\u001b[0;31m \u001b[0mrank\u001b[0m \u001b[0;34m=\u001b[0m \u001b[0mrad\u001b[0m\u001b[0;34m.\u001b[0m\u001b[0mUtiMPI\u001b[0m\u001b[0;34m(\u001b[0m\u001b[0;34m'on'\u001b[0m\u001b[0;34m)\u001b[0m\u001b[0;34m\u001b[0m\u001b[0;34m\u001b[0m\u001b[0m",
      "\u001b[0m\u001b[0;31mRuntimeError\u001b[0m: Failed to execute MPI function.",
      "",
      "[1:execute]: ",
      "\u001b[0;31m---------------------------------------------------------------------------\u001b[0m\u001b[0;31mRuntimeError\u001b[0m                              Traceback (most recent call last)\u001b[0;32m<ipython-input-33-42000bf26c2d>\u001b[0m in \u001b[0;36m<module>\u001b[0;34m\u001b[0m",
      "\u001b[0;32m----> 1\u001b[0;31m \u001b[0mrank\u001b[0m \u001b[0;34m=\u001b[0m \u001b[0mrad\u001b[0m\u001b[0;34m.\u001b[0m\u001b[0mUtiMPI\u001b[0m\u001b[0;34m(\u001b[0m\u001b[0;34m'on'\u001b[0m\u001b[0;34m)\u001b[0m\u001b[0;34m\u001b[0m\u001b[0;34m\u001b[0m\u001b[0m",
      "\u001b[0m\u001b[0;31mRuntimeError\u001b[0m: Failed to execute MPI function.",
      "",
      "[2:execute]: ",
      "\u001b[0;31m---------------------------------------------------------------------------\u001b[0m\u001b[0;31mRuntimeError\u001b[0m                              Traceback (most recent call last)\u001b[0;32m<ipython-input-33-42000bf26c2d>\u001b[0m in \u001b[0;36m<module>\u001b[0;34m\u001b[0m",
      "\u001b[0;32m----> 1\u001b[0;31m \u001b[0mrank\u001b[0m \u001b[0;34m=\u001b[0m \u001b[0mrad\u001b[0m\u001b[0;34m.\u001b[0m\u001b[0mUtiMPI\u001b[0m\u001b[0;34m(\u001b[0m\u001b[0;34m'on'\u001b[0m\u001b[0;34m)\u001b[0m\u001b[0;34m\u001b[0m\u001b[0;34m\u001b[0m\u001b[0m",
      "\u001b[0m\u001b[0;31mRuntimeError\u001b[0m: Failed to execute MPI function.",
      "",
      "[3:execute]: ",
      "\u001b[0;31m---------------------------------------------------------------------------\u001b[0m\u001b[0;31mRuntimeError\u001b[0m                              Traceback (most recent call last)\u001b[0;32m<ipython-input-33-42000bf26c2d>\u001b[0m in \u001b[0;36m<module>\u001b[0;34m\u001b[0m",
      "\u001b[0;32m----> 1\u001b[0;31m \u001b[0mrank\u001b[0m \u001b[0;34m=\u001b[0m \u001b[0mrad\u001b[0m\u001b[0;34m.\u001b[0m\u001b[0mUtiMPI\u001b[0m\u001b[0;34m(\u001b[0m\u001b[0;34m'on'\u001b[0m\u001b[0;34m)\u001b[0m\u001b[0;34m\u001b[0m\u001b[0;34m\u001b[0m\u001b[0m",
      "\u001b[0m\u001b[0;31mRuntimeError\u001b[0m: Failed to execute MPI function.",
      "",
      "... 4 more exceptions ..."
     ]
    }
   ],
   "source": [
    "# Import radia on cluster engines \n",
    "%px import radia as rad\n",
    "\n",
    "# Initialize MPI for Radia and print the ranks\n",
    "%px print('Hello from engine ', MPI.COMM_WORLD.rank)\n",
    "\n",
    "%px print(rad.__file__)\n",
    "%px rank = rad.UtiMPI('on')\n",
    "%px print('Radia sees rank:', rank)"
   ]
  },
  {
   "cell_type": "markdown",
   "metadata": {},
   "source": [
    "I see the same result when trying to run `%px rank = rad.UtiMPI('on')` regardless whether I run `%px from mpi4py import MPI` in the previous cell"
   ]
  },
  {
   "cell_type": "code",
   "execution_count": null,
   "metadata": {},
   "outputs": [],
   "source": []
  }
 ],
 "metadata": {
  "kernelspec": {
   "display_name": "Python 3",
   "language": "python",
   "name": "py3"
  },
  "language_info": {
   "codemirror_mode": {
    "name": "ipython",
    "version": 3
   },
   "file_extension": ".py",
   "mimetype": "text/x-python",
   "name": "python",
   "nbconvert_exporter": "python",
   "pygments_lexer": "ipython3",
   "version": "3.7.2"
  },
  "latex_envs": {
   "LaTeX_envs_menu_present": true,
   "autoclose": false,
   "autocomplete": true,
   "bibliofile": "biblio.bib",
   "cite_by": "apalike",
   "current_citInitial": 1,
   "eqLabelWithNumbers": true,
   "eqNumInitial": 1,
   "hotkeys": {
    "equation": "Ctrl-E",
    "itemize": "Ctrl-I"
   },
   "labels_anchors": false,
   "latex_user_defs": false,
   "report_style_numbering": false,
   "user_envs_cfg": false
  }
 },
 "nbformat": 4,
 "nbformat_minor": 4
}
