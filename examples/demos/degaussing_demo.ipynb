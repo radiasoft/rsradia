{
 "cells": [
  {
   "cell_type": "markdown",
   "id": "51d40141-c93c-41da-bdca-156cecb0cb58",
   "metadata": {},
   "source": [
    "# degaussing_demo.ipynb\n",
    "The purpose of this notebook is to demonstrate the application of hysteresis dynamics using ```rsradia``` in order to simulate degaussing for magnets of several geometries, including a parameterized H dipole steering magnet."
   ]
  },
  {
   "cell_type": "code",
   "execution_count": 1,
   "id": "f79e7592-d64c-480e-86ca-62b80c4d21c9",
   "metadata": {},
   "outputs": [
    {
     "ename": "ModuleNotFoundError",
     "evalue": "No module named 'rsradia.hysteresis'",
     "output_type": "error",
     "traceback": [
      "\u001b[0;31m---------------------------------------------------------------------------\u001b[0m",
      "\u001b[0;31mModuleNotFoundError\u001b[0m                       Traceback (most recent call last)",
      "\u001b[0;32m/tmp/ipykernel_27291/2324030068.py\u001b[0m in \u001b[0;36m<module>\u001b[0;34m\u001b[0m\n\u001b[1;32m      3\u001b[0m \u001b[0;32mfrom\u001b[0m \u001b[0mnumpy\u001b[0m \u001b[0;32mimport\u001b[0m \u001b[0marray\u001b[0m\u001b[0;34m,\u001b[0m \u001b[0mzeros\u001b[0m\u001b[0;34m,\u001b[0m \u001b[0mexp\u001b[0m\u001b[0;34m,\u001b[0m \u001b[0msin\u001b[0m\u001b[0;34m,\u001b[0m \u001b[0mcos\u001b[0m\u001b[0;34m,\u001b[0m \u001b[0mpi\u001b[0m\u001b[0;34m\u001b[0m\u001b[0;34m\u001b[0m\u001b[0m\n\u001b[1;32m      4\u001b[0m \u001b[0;32mfrom\u001b[0m \u001b[0mmatplotlib\u001b[0m \u001b[0;32mimport\u001b[0m \u001b[0mpyplot\u001b[0m \u001b[0;32mas\u001b[0m \u001b[0mplt\u001b[0m\u001b[0;34m\u001b[0m\u001b[0;34m\u001b[0m\u001b[0m\n\u001b[0;32m----> 5\u001b[0;31m \u001b[0;32mfrom\u001b[0m \u001b[0mrsradia\u001b[0m\u001b[0;34m.\u001b[0m\u001b[0mhysteresis\u001b[0m \u001b[0;32mimport\u001b[0m \u001b[0mMU0\u001b[0m\u001b[0;34m,\u001b[0m \u001b[0mJilesAtherton\u001b[0m\u001b[0;34m\u001b[0m\u001b[0;34m\u001b[0m\u001b[0m\n\u001b[0m\u001b[1;32m      6\u001b[0m \u001b[0;32mfrom\u001b[0m \u001b[0mrsradia\u001b[0m\u001b[0;34m.\u001b[0m\u001b[0mmagnets\u001b[0m \u001b[0;32mimport\u001b[0m \u001b[0mBlock\u001b[0m\u001b[0;34m,\u001b[0m \u001b[0mHDipole\u001b[0m\u001b[0;34m\u001b[0m\u001b[0;34m\u001b[0m\u001b[0m\n",
      "\u001b[0;31mModuleNotFoundError\u001b[0m: No module named 'rsradia.hysteresis'"
     ]
    }
   ],
   "source": [
    "#%pip install git+https://github.com/radiasoft/rsradia.git\n",
    "\n",
    "from numpy import array, zeros, exp, sin, cos, pi\n",
    "from matplotlib import pyplot as plt\n",
    "from rsradia.hysteresis import MU0, JilesAtherton\n",
    "from rsradia.magnets import Block, HDipole"
   ]
  },
  {
   "cell_type": "markdown",
   "id": "1520b768-3db1-44ec-b36d-a58bd9c9bc7f",
   "metadata": {},
   "source": [
    "## Creating a simple block magnet\n",
    "In this cell we create a simple block magnet with a racetrack coil. First we define the magnet's geometric parameters (in this case, using a dicitonary), then we construct the magnet, and finally we create and show a display for the magnet using a RadiaViewer window."
   ]
  },
  {
   "cell_type": "code",
   "execution_count": null,
   "id": "2649e46d-1233-43ec-84a0-8f784d0f36e4",
   "metadata": {},
   "outputs": [],
   "source": [
    "# Define parameters for & construct a block magnet\n",
    "block_params = {\n",
    "    'center': [0, 0, 0],\n",
    "    'block_dims': [100, 100, 100],\n",
    "    'coil_inner': 0,\n",
    "    'coil_thickness': 10,\n",
    "    'coil_gap': 5,\n",
    "}\n",
    "block_magnet = Block(**block_params)\n",
    "block_magnet.display()"
   ]
  },
  {
   "cell_type": "markdown",
   "id": "c50efa81-eda9-499e-8aba-f12f0ccb728a",
   "metadata": {},
   "source": [
    "## Defining a hysteresis model\n",
    "In the following cell, we define a Jiles-Atherton magnetic hysteresis model for low-carbon steel by loading it from memory. Since we're working with an isotropic material, we can re-use the same model to describe magnetization in all three spatial dimensions."
   ]
  },
  {
   "cell_type": "code",
   "execution_count": null,
   "id": "da120c47-74ec-414a-9be2-a67c6adda34e",
   "metadata": {},
   "outputs": [],
   "source": [
    "# Load a Jiles-Atherton hysteresis model for low-carbon steel\n",
    "ja_model = JilesAtherton.load(\"ja-model_g20-steel\")\n",
    "\n",
    "# Plot the example hysteresis quantities for the Jiles-Atherton model\n",
    "fig, ax = plt.subplots(figsize=(8,5))\n",
    "fig.suptitle(r\"Magnetic Hysteresis, Low Carbon Steel\", fontsize=20, y=.98)\n",
    "ax.plot(ja_model.H_major, ja_model.B_major, 'k', lw=2, label=r\"Major Loop\")\n",
    "ax.axis(1.1*array([ja_model.H_major.min(), ja_model.H_major.max(), ja_model.B_major.min(), ja_model.B_major.max()]))\n",
    "ax.set_xlabel(r\"Magnetizing Field, $H\\ (A / m)$\", fontsize=18, labelpad=10)\n",
    "ax.set_ylabel(r\"Internal Magnetic Flux Density, $B\\ (T)$\",fontsize=18)\n",
    "ax.tick_params(labelsize=16)\n",
    "fig.subplots_adjust(top=.9)\n",
    "fig.show()"
   ]
  },
  {
   "cell_type": "markdown",
   "id": "2944af71-7619-4eff-8aeb-44254a1d96ce",
   "metadata": {},
   "source": [
    "## Defining a series of applied currents\n",
    "The functions defined in the following cell describe the currents applied to the coils around each pole as functions of time. The cells below set current parameters then compute & plot the corresponding applied currents at various times"
   ]
  },
  {
   "cell_type": "code",
   "execution_count": null,
   "id": "58ce86db-3ed1-4fc1-b7f3-6a36a8d18af2",
   "metadata": {
    "tags": []
   },
   "outputs": [],
   "source": [
    "# Describes an applied current profile for simulating degaussing\n",
    "def I_app(t, t0h, t1h, t0d, I0h, I0d, w, f, rho):\n",
    "    \n",
    "    # Step current applied to reach a hysteretic state\n",
    "    Ih = I0h*(1/(1+exp(rho*(t0h-t)))+1/(1+exp(rho*(t-t1h)))-1)\n",
    "    \n",
    "    # Oscillating current applied during degaussing\n",
    "    Id = (I0d*exp(-w*(t-t0d))*cos(2*pi*f*(t-t0d)))/(1+exp(-rho*(t-t0d)))\n",
    "    \n",
    "    return Ih+Id\n",
    "\n",
    "# Define time parameters\n",
    "t0h = 0.5 # Hysteretic current switch-on midpoint\n",
    "t1h = 1 # # Hysteretic current switch-off midpoint\n",
    "t0d = 2 # Degaussing switch-on\n",
    "tmax = 5 # Maximum simulation time\n",
    "\n",
    "# Define current parameters\n",
    "I0h = 500 # Applied current reaching hysteretic state\n",
    "I0d = 5 # Maximum applied current during degaussing\n",
    "rho = 50 # Current switching rate \n",
    "f = 5 # Current oscillation frequency during degaussing\n",
    "w = 1 # Current decay parameter during degaussing\n",
    "\n",
    "# Define applied currents over a specified range of times\n",
    "ts = array(range(0, 500))*tmax/500\n",
    "Icoil = I_app(ts, t0h, t1h, t0d, I0h, I0d, w, f, rho)\n",
    "\n",
    "fig, ax = plt.subplots(figsize=(8,5))\n",
    "fig.suptitle(\"Applied Current Profile\\n\", fontsize=24, y=.98)\n",
    "ax.plot(ts, Icoil,'k', lw=2)\n",
    "ax.text(1, I0h, \"Forming hysteretic state\", va='center', ha='left', color='k', fontsize=16)\n",
    "ax.text(2.1, I0h/10, \"Performing degaussing\", va='center', ha='left', color='k', fontsize=16)\n",
    "ax.tick_params(labelsize=16)\n",
    "ax.set_xlabel(\"Time, s\", fontsize=20)\n",
    "ax.set_ylabel(\"I(t), A\", fontsize=20, labelpad=10)\n",
    "plt.axis([0,5,-1.5*I0d,1.1*Icoil.max()])\n",
    "plt.show()"
   ]
  },
  {
   "cell_type": "markdown",
   "id": "a9c5c6de-6d97-481e-a223-1b77bb9ba696",
   "metadata": {},
   "source": [
    "## Degaussing the block magnet\n",
    "The next cell performs simulated degaussing of the cubic magnet. This is done by looping over applied currents, passing them through the coil, computing resulting magnetic fields, and finally using the hysteresis model to determine field strengths (due to magnetization) in the cube."
   ]
  },
  {
   "cell_type": "code",
   "execution_count": null,
   "id": "0eb5091a-b5c5-4640-a8f1-edc547d45136",
   "metadata": {},
   "outputs": [],
   "source": [
    "# Define arrays to contain the results of simulated degaussing\n",
    "H_block = zeros((len(ts), 3))\n",
    "B_block = zeros((len(ts), 3))\n",
    "\n",
    "# Loop over current values & apply them to the magnet\n",
    "A_coil = (block_params['coil_thickness']*block_params['block_dims'][2])    \n",
    "for t in range(len(ts)):\n",
    "    Jcoil = Icoil[t]/A_coil\n",
    "    H_block[t], B_block[t] = block_magnet.magnetize(Jcoil, ja_model)"
   ]
  },
  {
   "cell_type": "markdown",
   "id": "ccb7532f-90c5-44e7-a6d7-add6dced3751",
   "metadata": {},
   "source": [
    "This cell just defines some magnetic quantities at important points during simulated degaussing to use in plotting. The next cell plots the hysteresis curve of the cubic magnet during degaussing, "
   ]
  },
  {
   "cell_type": "code",
   "execution_count": 2,
   "id": "051c174e-6d0a-4bad-b36a-695a6443dd5c",
   "metadata": {},
   "outputs": [
    {
     "ename": "NameError",
     "evalue": "name 'H_block' is not defined",
     "output_type": "error",
     "traceback": [
      "\u001b[0;31m---------------------------------------------------------------------------\u001b[0m",
      "\u001b[0;31mNameError\u001b[0m                                 Traceback (most recent call last)",
      "\u001b[0;32m/tmp/ipykernel_26582/1778439574.py\u001b[0m in \u001b[0;36m<module>\u001b[0;34m\u001b[0m\n\u001b[1;32m      1\u001b[0m \u001b[0;31m# Store quantities at the initial state for plotting\u001b[0m\u001b[0;34m\u001b[0m\u001b[0;34m\u001b[0m\u001b[0;34m\u001b[0m\u001b[0m\n\u001b[0;32m----> 2\u001b[0;31m \u001b[0miniH\u001b[0m \u001b[0;34m=\u001b[0m \u001b[0mH_block\u001b[0m\u001b[0;34m[\u001b[0m\u001b[0;36m0\u001b[0m\u001b[0;34m,\u001b[0m \u001b[0;36m2\u001b[0m\u001b[0;34m]\u001b[0m\u001b[0;34m\u001b[0m\u001b[0;34m\u001b[0m\u001b[0m\n\u001b[0m\u001b[1;32m      3\u001b[0m \u001b[0miniB\u001b[0m \u001b[0;34m=\u001b[0m \u001b[0mB_block\u001b[0m\u001b[0;34m[\u001b[0m\u001b[0;36m0\u001b[0m\u001b[0;34m,\u001b[0m \u001b[0;36m2\u001b[0m\u001b[0;34m]\u001b[0m\u001b[0;34m\u001b[0m\u001b[0;34m\u001b[0m\u001b[0m\n\u001b[1;32m      4\u001b[0m \u001b[0;34m\u001b[0m\u001b[0m\n\u001b[1;32m      5\u001b[0m \u001b[0;31m# Store quantities at the saturated state for plotting\u001b[0m\u001b[0;34m\u001b[0m\u001b[0;34m\u001b[0m\u001b[0;34m\u001b[0m\u001b[0m\n",
      "\u001b[0;31mNameError\u001b[0m: name 'H_block' is not defined"
     ]
    }
   ],
   "source": [
    "# Store quantities at the initial state for plotting\n",
    "iniH = H_block[0, 2]\n",
    "iniB = B_block[0, 2]\n",
    "\n",
    "# Store quantities at the saturated state for plotting\n",
    "satID = ts==(t0h+t1h)/2\n",
    "satH = H_block[:, 2][satID]\n",
    "satB = B_block[:, 2][satID]\n",
    "\n",
    "# Store quantities at the hysteretic state for plotting\n",
    "hystID = ts==(t1h+t0d)/2\n",
    "hystH = H_block[:, 2][hystID]\n",
    "hystB = B_block[:, 2][hystID]\n",
    "\n",
    "# Store quantities at the stopping point for plotting\n",
    "finH = H_block[-1, 2]\n",
    "finB = B_block[-1, 2]\n",
    "\n",
    "# Compute the percentage degaussing percentage metric\n",
    "percDG = (1-abs(finB)/hystB)*100\n",
    "\n",
    "# Plot the example hysteresis quantities for the Jiles-Atherton model\n",
    "fig, ax = plt.subplots(figsize=(11,7))\n",
    "fig.suptitle(r\"Degaussing, Low-Carbon Steel Block\", fontsize=20, y=.96)\n",
    "dgLine, = ax.plot(H_block[:,2], B_block[:,2], lw=2.5)\n",
    "ax.plot(iniH, iniB, 'bo', mfc='none', ms=10, mew=2.5, label='\\nInitial State\\n')\n",
    "ax.plot(hystH, hystB, 'go', mfc='none', ms=10, mew=2.5, label='Hysteretic State')\n",
    "ax.plot(satH, satB, 'o', color='orange', mfc='none', ms=10, mew=2.5, label='\\nSaturated State\\n')\n",
    "ax.plot(finH, finB, 'ro', mfc='none', ms=10, mew=2.5, label='Final State')\n",
    "leg = ax.legend(loc='lower right', fontsize=16, ncol=2, framealpha=0)\n",
    "leg.set_title(\"Critical Points\", prop={\"size\":16, \"weight\":\"bold\"})\n",
    "ax.text(.75*H_block.max(), .85*B_block[:,2].max(), r\"Results\", ha='center', va='center', fontsize=16, weight=\"bold\")\n",
    "ax.text(.75*H_block[:,2].max(), .75*B_block[:,2].max(), r\"Remanent Field: %.3f\"%hystB, ha='center', va='center', fontsize=16)\n",
    "ax.text(.75*H_block[:,2].max(), .65*B_block[:,2].max(), r\"Degaussed Field: %.3f\"%finB, ha='center', va='center', fontsize=16)\n",
    "ax.text(.75*H_block[:,2].max(), .55*B_block[:,2].max(), r\"Degaussing: %.1f%%\"%percDG, ha='center', va='center', fontsize=16)\n",
    "ax.axis(1.1*array([H_block[:,2].min(), H_block[:,2].max(), B_block[:,2].min()-.025, 1.01*B_block[:,2].max()]))\n",
    "ax.set_xlabel(r\"Magnetizing Field, $H\\ (A / m)$\", fontsize=18, labelpad=10)\n",
    "ax.set_ylabel(r\"Internal Magnetic Flux Density, $B\\ (T)$\",fontsize=18, labelpad=10)\n",
    "ax.tick_params(labelsize=16)\n",
    "fig.subplots_adjust(top=.9)\n",
    "fig.show()"
   ]
  },
  {
   "cell_type": "markdown",
   "id": "f28a7e47-32f4-4f83-b893-0595f3bee249",
   "metadata": {},
   "source": [
    "## Degaussing vs. applied current\n",
    "The following cells repeat the process shown above for many values of the initial degaussing current, ``I0d``."
   ]
  },
  {
   "cell_type": "code",
   "execution_count": 7,
   "id": "c0cb7021-30a5-4961-92a2-b00b1fe36b9a",
   "metadata": {},
   "outputs": [],
   "source": [
    "# Loop over initial degaussing currents from 0-20 Amp\n",
    "I0ds = 0+50*array(range(50))/50\n",
    "percDGs = zeros(len(I0ds))\n",
    "for i in range(len(I0ds)):\n",
    "    Icoil_i = I_app(ts, t0h, t1h, t0d, I0h, I0ds[i], w, f, rho)\n",
    "\n",
    "    # Loop over current values & apply them to the magnet\n",
    "    block_magnet = Block(**block_params)\n",
    "    for t in range(len(ts)):\n",
    "        Jcoil = Icoil_i[t]/A_coil\n",
    "        H, B = block_magnet.magnetize(Jcoil, ja_model)\n",
    "        \n",
    "        # Store magnetic flux density at the hysteretic state\n",
    "        if ts[t]==(t1h+t0d)/2: hystB = B\n",
    "\n",
    "    # Store magnetic flux density at the stopping point\n",
    "    finB = B\n",
    "    \n",
    "    # Compute the percentage degaussing metric\n",
    "    percDGs[i] = (1-abs(finB[2])/hystB[2])*100"
   ]
  },
  {
   "cell_type": "code",
   "execution_count": 8,
   "id": "31168166-41ff-4137-ac34-676002796182",
   "metadata": {},
   "outputs": [
    {
     "data": {
      "image/png": "[encoded data removed]",
      "text/plain": [
       "<Figure size 800x500 with 1 Axes>"
      ]
     },
     "metadata": {},
     "output_type": "display_data"
    }
   ],
   "source": [
    "# Plot the example hysteresis quantities for the Jiles-Atherton model\n",
    "fig, ax = plt.subplots(figsize=(8,5))\n",
    "fig.suptitle(r\"Degaussing vs. Current, Low-Carbon Steel Block\", fontsize=20, y=.98)\n",
    "ax.plot(I0ds, percDGs,lw=2.5)\n",
    "ax.plot([0,50],[100,100], 'k--')\n",
    "ax.axis([0, 50, 0, 105])\n",
    "ax.set_ylabel(r\"Degaussing, %\",fontsize=18)\n",
    "ax.set_xlabel(r\"Magnetizing Field, $H\\ (A / m)$ (A/m)\", fontsize=18, labelpad=10)\n",
    "ax.tick_params(labelsize=16)\n",
    "fig.subplots_adjust(top=.9)\n",
    "fig.show()"
   ]
  },
  {
   "cell_type": "markdown",
   "id": "b819420d-a326-46b9-8364-c513f1e2c885",
   "metadata": {},
   "source": [
    "## Creating an H-dipole\n",
    "The cells below define the H-dipole geometry, construct the magnet as a series of Radia objects, and visualizes the system using a Radia viewer window."
   ]
  },
  {
   "cell_type": "code",
   "execution_count": 9,
   "id": "d9a2078d-3638-4e4f-8459-6c07197795ec",
   "metadata": {},
   "outputs": [
    {
     "data": {
      "application/vnd.jupyter.widget-view+json": {
       "model_id": "34282f111a21439d9170f298e07eb92b",
       "version_major": 2,
       "version_minor": 0
      },
      "text/plain": [
       "RadiaViewer(children=(Viewer(children=(VTK(layout=Layout(margin='auto', min_width='25%', width='50%'), model_d…"
      ]
     },
     "metadata": {},
     "output_type": "display_data"
    }
   ],
   "source": [
    "# Define geometric parameters for the H-dipole\n",
    "dipole_params = {\n",
    "    'x_center': 0.,\n",
    "    'length': 75.,\n",
    "    'pole_height': 50.,\n",
    "    'pole_width': 25.,\n",
    "    'pole_sep': 10.,\n",
    "    'gap_height': 10.,\n",
    "    'top_height': 15,\n",
    "    'leg_width': 10.,\n",
    "    'coil_inner': 0.1,\n",
    "    'x_div': 4,\n",
    "}\n",
    "\n",
    "# Construct the H-dipole\n",
    "hdipole = HDipole(**dipole_params)\n",
    "hdipole.display()"
   ]
  },
  {
   "cell_type": "markdown",
   "id": "22a38ded-beba-41a6-a0b8-da9837192fac",
   "metadata": {},
   "source": [
    "## Degaussing the H-dipole"
   ]
  },
  {
   "cell_type": "code",
   "execution_count": 10,
   "id": "5d76aa6e-e004-432a-89db-22681905fa39",
   "metadata": {},
   "outputs": [
    {
     "name": "stdout",
     "output_type": "stream",
     "text": [
      "0.0 out of 5.0 s\n",
      "0.5 out of 5.0 s\n",
      "1.0 out of 5.0 s\n",
      "1.5 out of 5.0 s\n",
      "2.0 out of 5.0 s\n",
      "2.5 out of 5.0 s\n",
      "3.0 out of 5.0 s\n",
      "3.5 out of 5.0 s\n",
      "4.0 out of 5.0 s\n",
      "4.5 out of 5.0 s\n"
     ]
    }
   ],
   "source": [
    "# Define a current profile to apply to the H-dipole\n",
    "I0d = 3\n",
    "f = 3\n",
    "Icoil = I_app(ts, t0h, t1h, t0d, I0h, I0d, w, f, rho)\n",
    "\n",
    "# Define arrays to contain the results of simulated degaussing\n",
    "H_dipole = zeros((len(ts), 3))\n",
    "B_dipole = zeros((len(ts), 3))\n",
    "\n",
    "# Loop over current values & apply them to the magnet\n",
    "coil_rfactor = .85\n",
    "coil_hfactor = .75\n",
    "A_coil = (dipole_params['pole_sep']*coil_rfactor-dipole_params['coil_inner'])*(dipole_params['pole_height']*coil_hfactor)\n",
    "for t in range(len(ts)):\n",
    "    Jcoil = Icoil[t]/A_coil\n",
    "    H_dipole[t], B_dipole[t] = hdipole.magnetize(Jcoil, ja_model)\n",
    "    if not t%50: print(\"{:.1f} out of {:.1f} s\".format(ts[t], tmax))"
   ]
  },
  {
   "cell_type": "code",
   "execution_count": null,
   "id": "92b02e8b-6dfc-4f62-8bfd-fae51edccfc7",
   "metadata": {},
   "outputs": [],
   "source": [
    "# Store quantities at the initial state for plotting\n",
    "iniH = H_dipole[0, 2]\n",
    "iniB = B_dipole[0, 2]\n",
    "\n",
    "# Store quantities at the saturated state for plotting\n",
    "satID = ts==(t0h+t1h)/2\n",
    "satH = H_dipole[:, 2][satID]\n",
    "satB = B_dipole[:, 2][satID]\n",
    "\n",
    "# Store quantities at the hysteretic state for plotting\n",
    "hystID = ts==(t1h+t0d)/2\n",
    "hystH = H_dipole[:, 2][hystID]\n",
    "hystB = B_dipole[:, 2][hystID]\n",
    "\n",
    "# Store quantities at the stopping point for plotting\n",
    "finH = H_dipole[-1, 2]\n",
    "finB = B_dipole[-1, 2]\n",
    "\n",
    "# Compute the percentage degaussing percentage metric\n",
    "percDG = (1-abs(finB)/hystB)*100\n",
    "\n",
    "# Plot the example hysteresis quantities for the Jiles-Atherton model\n",
    "fig, ax = plt.subplots(figsize=(8,5))\n",
    "fig.suptitle(r\"Degaussing, Low-Carbon Steel Block\", fontsize=20, y=.96)\n",
    "dgLine, = ax.plot(H_dipole[:,2], B_dipole[:,2], lw=2.5)\n",
    "ax.plot(iniH, iniB, 'bo', mfc='none', ms=10, mew=2.5, label='Initial State')\n",
    "ax.plot(hystH, hystB, 'go', mfc='none', ms=10, mew=2.5, label='\\nHysteretic State\\n')\n",
    "#ax.plot(satH, satB, 'o', color='orange', mfc='none', ms=10, mew=2.5, label='\\nSaturated State\\n')\n",
    "ax.plot(finH, finB, 'ro', mfc='none', ms=10, mew=2.5, label='Final State')\n",
    "leg = ax.legend(loc='lower right', fontsize=16, ncol=1, framealpha=0)\n",
    "leg.set_title(\"Critical Points\", prop={\"size\":16, \"weight\":\"bold\"})\n",
    "ax.text(.0031, .8*B_dipole[:,2].max(), r\"Results\", ha='center', va='center', fontsize=16, weight=\"bold\")\n",
    "ax.text(.0031, .7*B_dipole[:,2].max(), r\"Remanent Field: %.3f\"%hystB, ha='center', va='center', fontsize=16)\n",
    "ax.text(.0031, .6*B_dipole[:,2].max(), r\"Degaussed Field: %.3f\"%finB, ha='center', va='center', fontsize=16)\n",
    "ax.text(.0031, .5*B_dipole[:,2].max(), r\"Degaussing: %.1f%%\"%percDG, ha='center', va='center', fontsize=16)\n",
    "ax.axis(1.1*array([H_dipole[:,2].min(), .004+0*H_dipole[:,2].max(), B_dipole[:,2].min()-.025, 1.01*B_dipole[:,2].max()]))\n",
    "ax.set_xlabel(r\"Magnetizing Field, $H\\ (A / m)$\", fontsize=18, labelpad=10)\n",
    "ax.set_ylabel(r\"Internal Magnetic Flux Density, $B\\ (T)$\",fontsize=18, labelpad=10)\n",
    "ax.tick_params(labelsize=16)\n",
    "fig.subplots_adjust(top=.9)\n",
    "fig.show()"
   ]
  },
  {
   "cell_type": "code",
   "execution_count": null,
   "id": "5b1ec5e2-d3c8-46bc-b0cc-3c73c44f8bec",
   "metadata": {},
   "outputs": [],
   "source": []
  }
 ],
 "metadata": {
  "kernelspec": {
   "display_name": "Python 3",
   "language": "python",
   "name": "py3"
  },
  "language_info": {
   "codemirror_mode": {
    "name": "ipython",
    "version": 3
   },
   "file_extension": ".py",
   "mimetype": "text/x-python",
   "name": "python",
   "nbconvert_exporter": "python",
   "pygments_lexer": "ipython3",
   "version": "3.7.2"
  }
 },
 "nbformat": 4,
 "nbformat_minor": 5
}
