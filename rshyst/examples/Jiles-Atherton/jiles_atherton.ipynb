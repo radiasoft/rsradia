{
 "cells": [
  {
   "cell_type": "markdown",
   "id": "500902b3-4c0c-485f-b9e6-f261e72a6a64",
   "metadata": {},
   "source": [
    "# jiles_atherton.ipynb\n",
    "This notebook demonstrates the creation and use of a Jiles-Atherton magnetic hysteresis model using `rshyst`.\n",
    "\n",
    "**Documentation**\n",
    "  * `JilesAtherton` documentation\n",
    "  * `rshyst` documentation"
   ]
  },
  {
   "cell_type": "code",
   "execution_count": null,
   "id": "991d4b9f-e439-4ded-aac5-ed0537a49143",
   "metadata": {},
   "outputs": [],
   "source": [
    "import numpy as np\n",
    "from matplotlib import pyplot as plt\n",
    "\n",
    "from rshyst import JilesAtherton, constants"
   ]
  },
  {
   "cell_type": "markdown",
   "id": "6d7a4344-5ba3-41b8-aa7f-d1ba2fc0caa4",
   "metadata": {
    "tags": []
   },
   "source": [
    "## Constructing a Jiles-Atherton model with `rshyst`\n",
    "We create a Jiles-Atherton model for grade 20 steel in the cell below by defining a dictionary containing a field step-size (```dH```), physical parameters of the model, and a choice of numerical integrator (see JilesAtherton documentation):"
   ]
  },
  {
   "cell_type": "code",
   "execution_count": null,
   "id": "51e96265-866c-466a-b34a-809643ea2d3b",
   "metadata": {},
   "outputs": [],
   "source": [
    "# Set Jiles-Atherton model parameters for low-carbon steel\n",
    "ja_params = {\n",
    "    'dH' : 10,\n",
    "    'sat_tol': 2.5e-4,\n",
    "    'alpha': 4.93e-4,\n",
    "    'a': 399,\n",
    "    'Ms': 1.35e6,\n",
    "    'k': 300,\n",
    "    'c': 0.120,\n",
    "    'wa': 0,\n",
    "    'Ka': 0,\n",
    "    'theta': 0,\n",
    "    'phi': 0,\n",
    "    'integrator' : 'RK45',\n",
    "}\n",
    "\n",
    "# Construct the Jiles-Atherton hysteresis model\n",
    "ja_model = JilesAtherton(**ja_params)"
   ]
  },
  {
   "cell_type": "markdown",
   "metadata": {},
   "source": [
    "Once a model has been created, it can be stored using the `save` method and loaded using the `load` class method:"
   ]
  },
  {
   "cell_type": "code",
   "execution_count": null,
   "metadata": {},
   "outputs": [],
   "source": [
    "# Saving a constructed model\n",
    "save_model = False\n",
    "if save_model:\n",
    "    ja_model.save(\"path/to/store/model.pkl\")\n",
    "\n",
    "# Loading a saved model\n",
    "load_model = False\n",
    "if load_model:\n",
    "    ja_model = JilesAtherton.load(\"path/to/stored/model.pkl\")"
   ]
  },
  {
   "cell_type": "markdown",
   "id": "22fa7f75-74a7-4804-b324-75862ed86a25",
   "metadata": {},
   "source": [
    "## Using the Jiles-Atherton model"
   ]
  },
  {
   "cell_type": "markdown",
   "id": "6d304f6d-4fb6-437c-8ba7-9a8e2b5741de",
   "metadata": {},
   "source": [
    "\n",
    "On initialization, hysteresis models contain definitions for the major hyseresis loop (```H_major``` and ```M_major```), as well as the magnetic `remanence` and `coercivity`.\n",
    "\n",
    "In the next cell we use the model created above to compute hysteresis quantities for the following use cases:\n",
    "* Computing a minor hysteresis loop reaching 1/5 of the saturation field\n",
    "* Computing a portion of the major hysteresis loop, beginning at a turnaround point\n",
    "* Computing an interpolated magnetic flux density at an arbitrary, prescribed point\n",
    "* Computing a portion of the major hysteresis loop beginning at a prescribed point"
   ]
  },
  {
   "cell_type": "code",
   "execution_count": null,
   "id": "d4693c43-f75c-41f4-a804-c4bc30277243",
   "metadata": {},
   "outputs": [],
   "source": [
    "# Extract existing information from Jiles-Atherton model\n",
    "HMaj = ja_model.H_major\n",
    "MMaj = ja_model.M_major\n",
    "Hc = ja_model.coercivity[1]\n",
    "Mr = ja_model.remanence[0]\n",
    "\n",
    "# Use Jiles-Atherton model to compute minor loop\n",
    "minor_path = [\n",
    "    [0, HMaj.max()/5],\n",
    "    [HMaj.max()/5, -HMaj.max()/5],\n",
    "    [-HMaj.max()/5, HMaj.max()/5]\n",
    "]\n",
    "HMin, MMin = ja_model.path(minor_path, 0.)\n",
    "\n",
    "# Use Jiles-Atherton model to compute partial major loop curve\n",
    "partial_path = [[HMaj.max(), 0]]\n",
    "HPart, MPart = ja_model.path(partial_path, MMaj.max())\n",
    "\n",
    "# Use Jiles-Atherton model to compute magnetization for arbitrary applied field\n",
    "HPoint = -1050.8\n",
    "MPointU = ja_model.point(HPoint, 'upper')\n",
    "\n",
    "# Use Jiles-Atherton model to compute partial major loop starting at arbitrary point\n",
    "point_path = [[.5 * HPoint, 0.]]\n",
    "MPointL = ja_model.point(.5 * HPoint, 'lower')\n",
    "HPP, MPP = ja_model.path(point_path, MPointL)\n",
    "\n",
    "# Convert values to Tesla for plotting\n",
    "Hc *= constants.MU0\n",
    "Mr *= constants.MU0\n",
    "HPoint *= constants.MU0\n",
    "MPointU *= constants.MU0\n",
    "for val in [HMaj, HMin, HPart, HPP, MMaj, MMin, MPart, MPP]:\n",
    "    val *= constants.MU0"
   ]
  },
  {
   "cell_type": "markdown",
   "metadata": {},
   "source": [
    "With all of these quantities computed, we can get a better idea of each model use-case by plotting:"
   ]
  },
  {
   "cell_type": "code",
   "execution_count": null,
   "id": "c2c542f1-0203-4fa6-8502-5b0ea0b87fe4",
   "metadata": {},
   "outputs": [],
   "source": [
    "fig, ax = plt.subplots(figsize=(11,7))\n",
    "fig.suptitle(r\"Jiles-Atherton Model: Low-Carbon Steel\",fontsize=24,y=.98)\n",
    "ax.plot(HMaj, MMaj, lw=2.5,label=r\"Major Loop\")\n",
    "ax.plot(HMin, MMin, ':', color='g', lw=3, label=r\"Minor Loop\")\n",
    "ax.plot(HPart, MPart, '--', color='orange', lw=2.5, label=r\"Partial Loop\")\n",
    "ax.plot(HPoint, MPointU, 'x', color='red', ms=10, mew=2.5, label=r\"Prescribed Point\")\n",
    "ax.plot(HPP, MPP, 'r--', lw=2.5, marker='o', mfc='none', ms=10, mew=2.5, markevery=[0], label=r\"Point-to-Path\")\n",
    "ax.plot(Hc, 0, 'ko', ms=7.5)\n",
    "ax.text(Hc-HMaj.max()/15, 0, r\"$H_c\\ =\\ {:.2f}\\ mT$\".format(abs(Hc*1e3)), ha='right', va='center', fontsize=18)\n",
    "ax.plot(0, Mr, 'ko', ms=7.5)\n",
    "ax.text(-HMaj.max()/15, Mr, r\"$M_r\\ =\\ {:.2f}\\ T$\".format(Mr), ha='right', va='center', fontsize=18)\n",
    "ax.legend(fontsize=16, loc='lower right')\n",
    "ax.axis(1.1*np.array([HMaj.min(), HMaj.max(), MMaj.min(), MMaj.max()]))\n",
    "ax.set_xlabel(r\"Magnetizing Field, $H\\ (T)$\", fontsize=20, labelpad=10)\n",
    "ax.set_ylabel(r\"Magnetization, $M\\ (T)$\",fontsize=20)\n",
    "ax.tick_params(labelsize=16)\n",
    "fig.subplots_adjust(top=.9)"
   ]
  }
 ],
 "metadata": {
  "kernelspec": {
   "display_name": "Python 3",
   "language": "python",
   "name": "python3"
  },
  "language_info": {
   "codemirror_mode": {
    "name": "ipython",
    "version": 3
   },
   "file_extension": ".py",
   "mimetype": "text/x-python",
   "name": "python",
   "nbconvert_exporter": "python",
   "pygments_lexer": "ipython3",
   "version": "3.11.5"
  }
 },
 "nbformat": 4,
 "nbformat_minor": 5
}
