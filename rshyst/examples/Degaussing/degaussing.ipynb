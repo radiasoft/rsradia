{
 "cells": [
  {
   "cell_type": "markdown",
   "id": "51d40141-c93c-41da-bdca-156cecb0cb58",
   "metadata": {},
   "source": [
    "# degaussing_demo.ipynb\n",
    "This notebook demonstrates the use of `rshyst` to simulate degaussing for a simple electromagnet composed of a wire-wrapped ferromagnetic core."
   ]
  },
  {
   "cell_type": "code",
   "execution_count": null,
   "id": "f79e7592-d64c-480e-86ca-62b80c4d21c9",
   "metadata": {},
   "outputs": [],
   "source": [
    "import numpy as np\n",
    "from matplotlib import pyplot as plt\n",
    "\n",
    "from electromagnet import Electromagnet\n",
    "from rshyst import JilesAtherton, constants"
   ]
  },
  {
   "cell_type": "markdown",
   "id": "c50efa81-eda9-499e-8aba-f12f0ccb728a",
   "metadata": {},
   "source": [
    "## Creating a hysteresis model\n",
    "In the following cell, we use `rshyst` to define a Jiles-Atherton magnetic hysteresis model:"
   ]
  },
  {
   "cell_type": "code",
   "execution_count": null,
   "id": "da120c47-74ec-414a-9be2-a67c6adda34e",
   "metadata": {},
   "outputs": [],
   "source": [
    "# Set Jiles-Atherton model parameters for low-carbon steel\n",
    "ja_params = {\n",
    "    'dH' : 1.,\n",
    "    'sat_tol': 2.5e-4,\n",
    "    'alpha': 4.93e-4,\n",
    "    'a': 399,\n",
    "    'Ms': 1.35e6,\n",
    "    'k': 300,\n",
    "    'c': 0.120,\n",
    "    'integrator' : 'RK45',\n",
    "}\n",
    "\n",
    "# Construct the Jiles-Atherton hysteresis model\n",
    "ja_model = JilesAtherton(**ja_params)"
   ]
  },
  {
   "cell_type": "markdown",
   "metadata": {},
   "source": [
    "## Creating a simple electromagnet\n",
    "Next we create a simple electromagnet composed of a ferromagnetic core wrapped in a solenoid:"
   ]
  },
  {
   "cell_type": "code",
   "execution_count": null,
   "metadata": {},
   "outputs": [],
   "source": [
    "magnet_params = {\n",
    "    \"turns\": 100.,\n",
    "    \"M0\": 0.,\n",
    "    \"I0\": 0.,\n",
    "    \"hyst_model\": ja_model\n",
    "}\n",
    "magnet = Electromagnet(**magnet_params)"
   ]
  },
  {
   "cell_type": "markdown",
   "metadata": {},
   "source": [
    "## Defining applied currents\n",
    "Now we'll define a time series of currents to apply to the solenoid. The current is raised to bring the electromagnet to a fully magnetized state and then lowered to zero, leaving the electromagnet with a remanent magnetization. Finally, an oscillating field is applied in an attempt to remove the remanent magnetization."
   ]
  },
  {
   "cell_type": "code",
   "execution_count": null,
   "metadata": {},
   "outputs": [],
   "source": [
    "# Describes an applied current profile for simulating degaussing\n",
    "def I_app(t, t0h, t1h, t0d, I0h, I0d, w, f, rho):\n",
    "    \n",
    "    # Current applied to reach fully magnetized state\n",
    "    Im = I0h*(1/(1+np.exp(rho*(t0h-t)))+1/(1+np.exp(rho*(t-t1h)))-1)\n",
    "    \n",
    "    # Oscillating current applied during degaussing\n",
    "    Id = (I0d*np.exp(-w*(t-t0d))*np.cos(2*np.pi*f*(t-t0d)))/(1+np.exp(-rho*(t-t0d)))\n",
    "    \n",
    "    return Im+Id\n",
    "\n",
    "# Define time parameters\n",
    "t0h = 0.5 # Hysteretic current switch-on midpoint\n",
    "t1h = 1 # # Hysteretic current switch-off midpoint\n",
    "t0d = 2 # Degaussing switch-on\n",
    "tmax = 5 # Maximum simulation time\n",
    "\n",
    "# Define current parameters\n",
    "I0h = 30 # Applied current reaching hysteretic state\n",
    "I0d = 1 # Maximum applied current during degaussing\n",
    "rho = 50 # Current switching rate \n",
    "f = 10 # Current oscillation frequency during degaussing\n",
    "w = 5 # Current decay parameter during degaussing\n",
    "\n",
    "# Define applied currents over a specified range of times\n",
    "ts = np.array(range(0, 1000))*tmax/1000\n",
    "Ia = I_app(ts, t0h, t1h, t0d, I0h, I0d, w, f, rho)"
   ]
  },
  {
   "cell_type": "markdown",
   "metadata": {},
   "source": [
    "To get a better feel for what the applied current is doing, we can plot the current profile versus time:"
   ]
  },
  {
   "cell_type": "code",
   "execution_count": null,
   "metadata": {},
   "outputs": [],
   "source": [
    "fig, ax = plt.subplots(figsize=(8,5))\n",
    "ax.plot(ts, Ia,'k', lw=2)\n",
    "ax.text(1, I0h, \"Magnetizing\", va='center', ha='left', color='k', fontsize=16)\n",
    "ax.text(2.1, I0h/7.5, \"Degaussing\", va='center', ha='left', color='k', fontsize=16)\n",
    "ax.tick_params(labelsize=16)\n",
    "ax.set_xlabel(\"Time [$s$]\", fontsize=20)\n",
    "ax.set_ylabel(\"Applied Current [$A$]\", fontsize=20, labelpad=10)\n",
    "plt.axis([0, 5 , -2.5*I0d, 1.1*Ia.max()])\n",
    "plt.show()"
   ]
  },
  {
   "cell_type": "markdown",
   "metadata": {},
   "source": [
    "## Simulating degaussing\n",
    "We now have all we need to simulate degaussing. In the cell below, we iterate through the series of applied currents and compute the resulting magnetization in the electromagnet, storing the values for plotting."
   ]
  },
  {
   "cell_type": "code",
   "execution_count": null,
   "metadata": {},
   "outputs": [],
   "source": [
    "Hs = []\n",
    "Ms = []\n",
    "for I in Ia:\n",
    "    magnet.apply_current(I)\n",
    "    Hs.append(magnet.H)\n",
    "    Ms.append(magnet.M)\n",
    "\n",
    "Hs = np.array(Hs) * constants.MU0\n",
    "Ms = np.array(Ms) * constants.MU0"
   ]
  },
  {
   "cell_type": "markdown",
   "metadata": {},
   "source": [
    "Now let's ..."
   ]
  },
  {
   "cell_type": "code",
   "execution_count": null,
   "metadata": {},
   "outputs": [],
   "source": [
    "# Define useful quantities for plotting\n",
    "tSat = int(np.where(ts == (t0h + t1h) / 2)[0])     # Timestep for saturation\n",
    "tRem = int(np.where(ts == (t1h + t0d) / 2)[0])   # Timestep for remanence\n",
    "rDG = (1 - abs(Ms[-1]) / Ms[tRem])   # Ratio of magnetization removed\n",
    "\n",
    "# Plot the degaussing results, marking & labeling critical points\n",
    "fig, ax = plt.subplots(figsize=(11,7))\n",
    "ax.plot(Hs[0], Ms[0], 'bo', mfc='none', ms=10, mew=2.5, label='Initial State')\n",
    "ax.plot(Hs[tSat], Ms[tSat], 'go', mfc='none', ms=10, mew=2.5, label='Saturated State')\n",
    "ax.plot(Hs[tRem], Ms[tRem], 'o', color='orange', mfc='none', ms=10, mew=2.5, label='Remanent State')\n",
    "ax.plot(Hs[-1], Ms[-1], 'ro', mfc='none', ms=10, mew=2.5, label='Final State')\n",
    "leg = ax.legend(loc='lower right', fontsize=16, ncol=2, framealpha=0)\n",
    "leg.set_title(\"Critical Points\\n\", prop={\"size\":16, \"weight\":\"bold\"})\n",
    "ax.plot(Hs, Ms, 'k', lw=2.5)\n",
    "ax.text(.65*Hs.max(), .65*Ms.max(), r\"Degaussing Results\", ha='center', va='center', fontsize=16, weight=\"bold\")\n",
    "ax.text(.65*Hs.max(), .55*Ms.max(), r\"$M_r\\ =\\ {:.3f}\\ T$\".format(Ms[tRem]), ha='center', va='center', fontsize=16)\n",
    "ax.text(.65*Hs.max(), .45*Ms.max(), r\"$M_f\\ =\\ {:.3f}\\ T$\".format(Ms[-1]), ha='center', va='center', fontsize=16)\n",
    "ax.text(.65*Hs.max(), .35*Ms.max(), r\"$\\Delta M\\ =\\ {:.2f}\\ M_r$\".format(rDG), ha='center', va='center', fontsize=16)\n",
    "ax.axis([-.1*Hs.max(), 1.01*Hs.max(), -.1*Ms.max(), 1.1*Ms.max()])\n",
    "ax.set_xlabel(r\"Applied Field [$T$]\", fontsize=20, labelpad=10)\n",
    "ax.set_ylabel(r\"Magnetization [$T$]\",fontsize=20, labelpad=15)\n",
    "ax.tick_params(labelsize=16)\n",
    "fig.subplots_adjust(top=.9)"
   ]
  },
  {
   "cell_type": "markdown",
   "id": "f28a7e47-32f4-4f83-b893-0595f3bee249",
   "metadata": {},
   "source": [
    "## Degaussing vs. applied current\n",
    "The following cells repeat the process shown above for many values of the initial degaussing current, ``I0d``."
   ]
  },
  {
   "cell_type": "code",
   "execution_count": null,
   "id": "c0cb7021-30a5-4961-92a2-b00b1fe36b9a",
   "metadata": {},
   "outputs": [],
   "source": [
    "rDGs = []\n",
    "I0ds = 1.e-3 + 5. * np.array(range(51))/50\n",
    "for i in range(len(I0ds)):\n",
    "    magnet.H = magnet.M = 0.\n",
    "    Ia = I_app(ts, t0h, t1h, t0d, I0h, I0ds[i], w, f, rho)\n",
    "    loopHs = []\n",
    "    loopMs = []\n",
    "    for I in Ia:\n",
    "        magnet.apply_current(I)\n",
    "        loopHs.append(magnet.H)\n",
    "        loopMs.append(magnet.M)\n",
    "    \n",
    "    rDGs.append(1. - abs(loopMs[-1]) / loopMs[tRem])"
   ]
  },
  {
   "cell_type": "code",
   "execution_count": null,
   "id": "31168166-41ff-4137-ac34-676002796182",
   "metadata": {},
   "outputs": [],
   "source": [
    "# Plot the example hysteresis quantities for the Jiles-Atherton model\n",
    "fig, ax = plt.subplots(figsize=(8,5))\n",
    "ax.plot(I0ds, rDGs,lw=2.5)\n",
    "ax.plot([0, I0ds.max()],[1., 1.], 'k--')\n",
    "ax.axis([0, I0ds.max(), 0, 1.1])\n",
    "ax.set_ylabel(r\"$\\Delta M\\ /\\ M_r$\",fontsize=18)\n",
    "ax.set_xlabel(r\"Applied Current [$A$]\", fontsize=18, labelpad=10)\n",
    "ax.tick_params(labelsize=16)\n",
    "fig.subplots_adjust(top=.9)"
   ]
  }
 ],
 "metadata": {
  "kernelspec": {
   "display_name": "Python 3",
   "language": "python",
   "name": "python3"
  },
  "language_info": {
   "codemirror_mode": {
    "name": "ipython",
    "version": 3
   },
   "file_extension": ".py",
   "mimetype": "text/x-python",
   "name": "python",
   "nbconvert_exporter": "python",
   "pygments_lexer": "ipython3",
   "version": "3.11.5"
  }
 },
 "nbformat": 4,
 "nbformat_minor": 5
}
